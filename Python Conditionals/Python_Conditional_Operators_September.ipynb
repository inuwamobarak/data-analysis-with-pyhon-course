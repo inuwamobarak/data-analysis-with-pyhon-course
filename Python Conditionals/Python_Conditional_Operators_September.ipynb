{
  "nbformat": 4,
  "nbformat_minor": 0,
  "metadata": {
    "colab": {
      "provenance": []
    },
    "kernelspec": {
      "name": "python3",
      "display_name": "Python 3"
    },
    "language_info": {
      "name": "python"
    }
  },
  "cells": [
    {
      "cell_type": "markdown",
      "source": [
        "## if statement"
      ],
      "metadata": {
        "id": "iRaGdKtzSm-K"
      }
    },
    {
      "cell_type": "code",
      "execution_count": 12,
      "metadata": {
        "colab": {
          "base_uri": "https://localhost:8080/"
        },
        "id": "9VzhYXAVSO0g",
        "outputId": "a97034fc-4e0c-450b-d5da-a174f0070639"
      },
      "outputs": [
        {
          "output_type": "stream",
          "name": "stdout",
          "text": [
            "You are Eligible!\n"
          ]
        }
      ],
      "source": [
        "age = 25\n",
        "\n",
        "if age >= 18:\n",
        "  print(\"You are Eligible!\")"
      ]
    },
    {
      "cell_type": "code",
      "source": [
        "age = 17\n",
        "\n",
        "if age >= 18:\n",
        "  print(\"You are Eligible!\")\n",
        "  print(1 + 3)\n",
        "\n",
        "print(\"Hello\")"
      ],
      "metadata": {
        "colab": {
          "base_uri": "https://localhost:8080/"
        },
        "id": "J-B6r3KlTba1",
        "outputId": "a549869a-8ca7-4e28-c0ce-8b4a46ae3f21"
      },
      "execution_count": 13,
      "outputs": [
        {
          "output_type": "stream",
          "name": "stdout",
          "text": [
            "Hello\n"
          ]
        }
      ]
    },
    {
      "cell_type": "markdown",
      "source": [
        "## if-else Statement"
      ],
      "metadata": {
        "id": "bSjTQhB_VMor"
      }
    },
    {
      "cell_type": "code",
      "source": [
        "age = 17\n",
        "\n",
        "if age >= 18:\n",
        "  print(\"You are Eligible!\")\n",
        "else:\n",
        "  print(\"Sorry, you are ineligible\")"
      ],
      "metadata": {
        "colab": {
          "base_uri": "https://localhost:8080/"
        },
        "id": "WFMqVLJSTjBI",
        "outputId": "d2417f6b-edb8-4096-cb07-042a0ec2804f"
      },
      "execution_count": 14,
      "outputs": [
        {
          "output_type": "stream",
          "name": "stdout",
          "text": [
            "Sorry, you are ineligible\n"
          ]
        }
      ]
    },
    {
      "cell_type": "markdown",
      "source": [
        "## if-elif-else statement"
      ],
      "metadata": {
        "id": "H8JKCj0PWuEx"
      }
    },
    {
      "cell_type": "code",
      "source": [
        "color = 'Yellow'\n",
        "\n",
        "if color == 'Red':\n",
        "  print(\"STOP!\")\n",
        "elif color == 'Yellow':\n",
        "  print(\"GET READY!\")\n",
        "elif color == '':\n",
        "  print(\"USE CENSORS\")\n",
        "elif color == 'Green':\n",
        "  print(\"GO!\")\n",
        "else:\n",
        "  print(\"INVALID COLOR!\")"
      ],
      "metadata": {
        "colab": {
          "base_uri": "https://localhost:8080/"
        },
        "id": "GnEBTqNjV7bS",
        "outputId": "54b7beaa-ae28-4b7d-8b32-6f4c6233d99e"
      },
      "execution_count": 15,
      "outputs": [
        {
          "output_type": "stream",
          "name": "stdout",
          "text": [
            "GET READY!\n"
          ]
        }
      ]
    },
    {
      "cell_type": "markdown",
      "source": [
        "## Nested if Statements"
      ],
      "metadata": {
        "id": "yVI3cSSGMo5P"
      }
    },
    {
      "cell_type": "code",
      "source": [
        "# if else\n",
        "\n",
        "num = 10\n",
        "\n",
        "if num > 0:\n",
        "  print(\"Positive Number\")\n",
        "else:\n",
        "  print(\"Negative Number\")"
      ],
      "metadata": {
        "id": "53GZQ3hQYnQP",
        "colab": {
          "base_uri": "https://localhost:8080/"
        },
        "outputId": "2d11d0ed-f4f2-4dc0-a301-ac47708a1dc5"
      },
      "execution_count": 16,
      "outputs": [
        {
          "output_type": "stream",
          "name": "stdout",
          "text": [
            "Positive Number\n"
          ]
        }
      ]
    },
    {
      "cell_type": "code",
      "source": [
        "# Nested if else\n",
        "num = 0\n",
        "\n",
        "if num >= 0:\n",
        "  if num %2 == 0:\n",
        "    print(\"Positive Even Number\")\n",
        "  else:\n",
        "    print(\"Positive Odd Number\")\n",
        "else:\n",
        "  print(\"Negative Number\")"
      ],
      "metadata": {
        "colab": {
          "base_uri": "https://localhost:8080/"
        },
        "id": "yB8Cvrd8OG8P",
        "outputId": "2638c2c2-2b95-489b-9194-c211b419eb29"
      },
      "execution_count": 17,
      "outputs": [
        {
          "output_type": "stream",
          "name": "stdout",
          "text": [
            "Positive Even Number\n"
          ]
        }
      ]
    },
    {
      "cell_type": "markdown",
      "source": [
        "## Ternary Conditionals"
      ],
      "metadata": {
        "id": "zCiWZ4TOTT9a"
      }
    },
    {
      "cell_type": "code",
      "source": [
        "age = 17\n",
        "\n",
        "eligibility = \"You are Eligible!\" if age >= 18 else \"Sorry, you are ineligible\"\n",
        "\n",
        "print(eligibility)"
      ],
      "metadata": {
        "colab": {
          "base_uri": "https://localhost:8080/"
        },
        "id": "FgexduzWQ5u3",
        "outputId": "37dce5be-4167-4a34-9a33-71172d251f5e"
      },
      "execution_count": 18,
      "outputs": [
        {
          "output_type": "stream",
          "name": "stdout",
          "text": [
            "Sorry, you are ineligible\n"
          ]
        }
      ]
    },
    {
      "cell_type": "code",
      "source": [
        "# Exercise\n",
        "\n",
        "score = input()\n",
        "\n",
        "# Error Handling\n",
        "try:\n",
        "  score = int(score)\n",
        "\n",
        "  if score < 45:\n",
        "    if score < 25:\n",
        "      print(\"Probated\")\n",
        "    else:\n",
        "      print(\"Failed, but promoted\")\n",
        "  elif score < 55:\n",
        "    print(\"Passed with C Grade\")\n",
        "  elif score < 65:\n",
        "    print(\"Passed with B Grade\")\n",
        "  else:\n",
        "    if score < 80:\n",
        "      print(\"Very Good with Grade A!\")\n",
        "    else:\n",
        "      print(\"Exellent Candidate with Grade A+\")\n",
        "except:\n",
        "  print(\"Please, provide a valid score\")"
      ],
      "metadata": {
        "colab": {
          "base_uri": "https://localhost:8080/"
        },
        "id": "jQTuW12TVI5m",
        "outputId": "a2b60745-9548-4377-898a-147bc8e397c8"
      },
      "execution_count": 24,
      "outputs": [
        {
          "output_type": "stream",
          "name": "stdout",
          "text": [
            "fghjkmlrdftghjk\n",
            "Please, provide a valid score\n"
          ]
        }
      ]
    },
    {
      "cell_type": "code",
      "source": [],
      "metadata": {
        "id": "BfKsNifXYOMo"
      },
      "execution_count": 24,
      "outputs": []
    }
  ]
}