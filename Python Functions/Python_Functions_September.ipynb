{
  "nbformat": 4,
  "nbformat_minor": 0,
  "metadata": {
    "colab": {
      "provenance": []
    },
    "kernelspec": {
      "name": "python3",
      "display_name": "Python 3"
    },
    "language_info": {
      "name": "python"
    }
  },
  "cells": [
    {
      "cell_type": "code",
      "execution_count": null,
      "metadata": {
        "id": "7qElo3Co9UVk"
      },
      "outputs": [],
      "source": [
        "# Creating a Function\n",
        "\n",
        "def add_nums():\n",
        "  a = 1\n",
        "  b = 2\n",
        "  c = a + b\n",
        "  print(c)"
      ]
    },
    {
      "cell_type": "code",
      "source": [
        "# Function calling\n",
        "add_nums()"
      ],
      "metadata": {
        "colab": {
          "base_uri": "https://localhost:8080/"
        },
        "id": "NmTIK-M8A1r-",
        "outputId": "2796d3c7-f621-49f6-8e33-9d46b4586b6c"
      },
      "execution_count": null,
      "outputs": [
        {
          "output_type": "stream",
          "name": "stdout",
          "text": [
            "3\n"
          ]
        }
      ]
    },
    {
      "cell_type": "code",
      "source": [
        "# Funciton Parameters\n",
        "\n",
        "def add_nums(a, b):\n",
        "  c = a + b\n",
        "  print(c)"
      ],
      "metadata": {
        "id": "m4_n53mpA71o"
      },
      "execution_count": null,
      "outputs": []
    },
    {
      "cell_type": "code",
      "source": [
        "add_nums(1, 2)"
      ],
      "metadata": {
        "id": "MDBtf4teCXsE",
        "colab": {
          "base_uri": "https://localhost:8080/"
        },
        "outputId": "d6863802-fd78-4329-b0d4-98fb5b3c279c"
      },
      "execution_count": null,
      "outputs": [
        {
          "output_type": "stream",
          "name": "stdout",
          "text": [
            "3\n"
          ]
        }
      ]
    },
    {
      "cell_type": "code",
      "source": [
        "# Default Parameters\n",
        "\n",
        "def add_nums(a=1, b=2):\n",
        "  c = a + b\n",
        "  print(c)"
      ],
      "metadata": {
        "id": "GsgcUAyYCbBp"
      },
      "execution_count": null,
      "outputs": []
    },
    {
      "cell_type": "code",
      "source": [
        "add_nums(4, 5)"
      ],
      "metadata": {
        "colab": {
          "base_uri": "https://localhost:8080/"
        },
        "id": "-OxWelRLEXdV",
        "outputId": "bcb11a82-c39e-466c-8d47-d7dbdec23994"
      },
      "execution_count": null,
      "outputs": [
        {
          "output_type": "stream",
          "name": "stdout",
          "text": [
            "9\n"
          ]
        }
      ]
    },
    {
      "cell_type": "code",
      "source": [
        "# Return Statement\n",
        "\n",
        "def add_nums(a=1, b=2):\n",
        "  return a + b"
      ],
      "metadata": {
        "id": "eI7zZXypEadf"
      },
      "execution_count": null,
      "outputs": []
    },
    {
      "cell_type": "code",
      "source": [
        "add_nums()"
      ],
      "metadata": {
        "colab": {
          "base_uri": "https://localhost:8080/"
        },
        "id": "eEMlUHu0FYKm",
        "outputId": "ee462b8e-ff8a-491f-ab26-952f7a6b607a"
      },
      "execution_count": null,
      "outputs": [
        {
          "output_type": "execute_result",
          "data": {
            "text/plain": [
              "3"
            ]
          },
          "metadata": {},
          "execution_count": 77
        }
      ]
    },
    {
      "cell_type": "code",
      "source": [
        "# Function Scope\n",
        "\n",
        "global_var = 5\n",
        "\n",
        "def sample():\n",
        "  local_var = 6\n",
        "  print(local_var)\n",
        "  print(global_var)"
      ],
      "metadata": {
        "id": "V2HPnrQEFcUx"
      },
      "execution_count": null,
      "outputs": []
    },
    {
      "cell_type": "code",
      "source": [
        "sample()"
      ],
      "metadata": {
        "colab": {
          "base_uri": "https://localhost:8080/"
        },
        "id": "akhvvMS7G5vt",
        "outputId": "4f6eb847-4786-4db6-f0bf-9f934dc7224c"
      },
      "execution_count": null,
      "outputs": [
        {
          "output_type": "stream",
          "name": "stdout",
          "text": [
            "6\n",
            "5\n"
          ]
        }
      ]
    },
    {
      "cell_type": "code",
      "source": [
        "print(global_var)\n",
        "\n",
        "## Shows an error\n",
        "print(local_var)"
      ],
      "metadata": {
        "colab": {
          "base_uri": "https://localhost:8080/",
          "height": 236
        },
        "id": "wSOaiMegHsUf",
        "outputId": "456c0736-81cb-4dc2-b622-61835553732f"
      },
      "execution_count": null,
      "outputs": [
        {
          "output_type": "stream",
          "name": "stdout",
          "text": [
            "5\n"
          ]
        },
        {
          "output_type": "error",
          "ename": "NameError",
          "evalue": "ignored",
          "traceback": [
            "\u001b[0;31m---------------------------------------------------------------------------\u001b[0m",
            "\u001b[0;31mNameError\u001b[0m                                 Traceback (most recent call last)",
            "\u001b[0;32m<ipython-input-80-7fbf635ee605>\u001b[0m in \u001b[0;36m<cell line: 4>\u001b[0;34m()\u001b[0m\n\u001b[1;32m      2\u001b[0m \u001b[0;34m\u001b[0m\u001b[0m\n\u001b[1;32m      3\u001b[0m \u001b[0;31m## Shows an error\u001b[0m\u001b[0;34m\u001b[0m\u001b[0;34m\u001b[0m\u001b[0m\n\u001b[0;32m----> 4\u001b[0;31m \u001b[0mprint\u001b[0m\u001b[0;34m(\u001b[0m\u001b[0mlocal_var\u001b[0m\u001b[0;34m)\u001b[0m\u001b[0;34m\u001b[0m\u001b[0;34m\u001b[0m\u001b[0m\n\u001b[0m",
            "\u001b[0;31mNameError\u001b[0m: name 'local_var' is not defined"
          ]
        }
      ]
    },
    {
      "cell_type": "code",
      "source": [
        "# Recursive Functions\n",
        "\n",
        "def factorial(n):\n",
        "  if n == 0:\n",
        "    return 1\n",
        "  else:\n",
        "    return n * factorial(n-1)\n",
        "\n",
        "print(factorial(5))"
      ],
      "metadata": {
        "colab": {
          "base_uri": "https://localhost:8080/"
        },
        "id": "Es4DFzsaIbIP",
        "outputId": "68238b9e-52cb-4a0c-80b4-bbaeddbafcaf"
      },
      "execution_count": null,
      "outputs": [
        {
          "output_type": "stream",
          "name": "stdout",
          "text": [
            "120\n"
          ]
        }
      ]
    },
    {
      "cell_type": "code",
      "source": [
        "# Lambda Functions\n",
        "\n",
        "add_nums = lambda a, b : a + b\n",
        "\n",
        "add_nums(1, 2)"
      ],
      "metadata": {
        "colab": {
          "base_uri": "https://localhost:8080/"
        },
        "id": "C99wtpFXMQyk",
        "outputId": "65cae679-a6dc-493a-ecd7-4045bd015ede"
      },
      "execution_count": null,
      "outputs": [
        {
          "output_type": "execute_result",
          "data": {
            "text/plain": [
              "3"
            ]
          },
          "metadata": {},
          "execution_count": 82
        }
      ]
    },
    {
      "cell_type": "code",
      "source": [
        "# Notable Built in Functions in Python\n",
        "\n",
        "## print()\n",
        "print(\"Today is Wednesday\")"
      ],
      "metadata": {
        "id": "afQRsuSTNusA",
        "colab": {
          "base_uri": "https://localhost:8080/"
        },
        "outputId": "78770909-8045-440e-a920-43069a073beb"
      },
      "execution_count": null,
      "outputs": [
        {
          "output_type": "stream",
          "name": "stdout",
          "text": [
            "Today is Wednesday\n"
          ]
        }
      ]
    },
    {
      "cell_type": "code",
      "source": [
        "## len()\n",
        "nums = [1, 2, 3, 4, 5]\n",
        "print(len(nums))"
      ],
      "metadata": {
        "colab": {
          "base_uri": "https://localhost:8080/"
        },
        "id": "e6ychs73Pa2c",
        "outputId": "0ea64691-7af6-4cfc-f598-a20288276eb8"
      },
      "execution_count": null,
      "outputs": [
        {
          "output_type": "stream",
          "name": "stdout",
          "text": [
            "5\n"
          ]
        }
      ]
    },
    {
      "cell_type": "code",
      "source": [
        "## input()\n",
        "name = input(\"Enter your name: \")\n",
        "print(\"Hello,\", name)"
      ],
      "metadata": {
        "colab": {
          "base_uri": "https://localhost:8080/"
        },
        "id": "LnaBU3mBP46w",
        "outputId": "10583b4c-94bb-4255-edf4-ce9defbef846"
      },
      "execution_count": null,
      "outputs": [
        {
          "output_type": "stream",
          "name": "stdout",
          "text": [
            "Enter your name: Abraham\n",
            "Hello, Abraham\n"
          ]
        }
      ]
    },
    {
      "cell_type": "code",
      "source": [
        "## Range\n",
        "nums = range(5, 8)\n",
        "print(list(nums))"
      ],
      "metadata": {
        "colab": {
          "base_uri": "https://localhost:8080/"
        },
        "id": "ncHYZCp_QWjv",
        "outputId": "4220d2a2-40cc-428e-9f88-44c895c66ee8"
      },
      "execution_count": null,
      "outputs": [
        {
          "output_type": "stream",
          "name": "stdout",
          "text": [
            "[5, 6, 7]\n"
          ]
        }
      ]
    },
    {
      "cell_type": "code",
      "source": [
        "## Type()\n",
        "type(nums)"
      ],
      "metadata": {
        "colab": {
          "base_uri": "https://localhost:8080/"
        },
        "id": "ia8bUmvkRHbO",
        "outputId": "722cdb06-b27e-435f-8a7e-27eaf2fabd21"
      },
      "execution_count": null,
      "outputs": [
        {
          "output_type": "execute_result",
          "data": {
            "text/plain": [
              "range"
            ]
          },
          "metadata": {},
          "execution_count": 87
        }
      ]
    },
    {
      "cell_type": "code",
      "source": [
        "## Max()\n",
        "max(nums)"
      ],
      "metadata": {
        "colab": {
          "base_uri": "https://localhost:8080/"
        },
        "id": "8vmWZmfoRlat",
        "outputId": "63c0fcbb-3187-46b5-fd46-163ef080aa86"
      },
      "execution_count": null,
      "outputs": [
        {
          "output_type": "execute_result",
          "data": {
            "text/plain": [
              "7"
            ]
          },
          "metadata": {},
          "execution_count": 88
        }
      ]
    },
    {
      "cell_type": "code",
      "source": [
        "## Min()\n",
        "min(nums)"
      ],
      "metadata": {
        "colab": {
          "base_uri": "https://localhost:8080/"
        },
        "id": "pjDlGpGlRulf",
        "outputId": "c2049c40-c135-4715-b11b-40f3af9c9c9c"
      },
      "execution_count": null,
      "outputs": [
        {
          "output_type": "execute_result",
          "data": {
            "text/plain": [
              "5"
            ]
          },
          "metadata": {},
          "execution_count": 89
        }
      ]
    },
    {
      "cell_type": "code",
      "source": [
        "## Sum()\n",
        "sum(nums)"
      ],
      "metadata": {
        "colab": {
          "base_uri": "https://localhost:8080/"
        },
        "id": "9oiZfCc2R5SK",
        "outputId": "dea535c5-ecc0-4036-aaa1-f1ace94fabbd"
      },
      "execution_count": null,
      "outputs": [
        {
          "output_type": "execute_result",
          "data": {
            "text/plain": [
              "18"
            ]
          },
          "metadata": {},
          "execution_count": 90
        }
      ]
    },
    {
      "cell_type": "code",
      "source": [
        "# Exercise 1\n",
        "\n",
        "def power(base, exponent):\n",
        "  return base ** exponent"
      ],
      "metadata": {
        "id": "jAh6xgc6Sibe"
      },
      "execution_count": null,
      "outputs": []
    },
    {
      "cell_type": "code",
      "source": [
        "power(2, 4)"
      ],
      "metadata": {
        "colab": {
          "base_uri": "https://localhost:8080/"
        },
        "id": "cSIy9cQMTeSb",
        "outputId": "c75577f5-eaa2-4fac-d450-fd1c9e9db4e6"
      },
      "execution_count": null,
      "outputs": [
        {
          "output_type": "execute_result",
          "data": {
            "text/plain": [
              "16"
            ]
          },
          "metadata": {},
          "execution_count": 92
        }
      ]
    },
    {
      "cell_type": "code",
      "source": [
        "# Exercise 2\n",
        "\n",
        "def square(x):\n",
        "  return x ** 2"
      ],
      "metadata": {
        "id": "XgaWxa_jTgN7"
      },
      "execution_count": null,
      "outputs": []
    },
    {
      "cell_type": "code",
      "source": [
        "square(4)"
      ],
      "metadata": {
        "colab": {
          "base_uri": "https://localhost:8080/"
        },
        "id": "Kkaas0J4UauO",
        "outputId": "9a43c34f-2c7f-480e-de70-3ae3228390d6"
      },
      "execution_count": null,
      "outputs": [
        {
          "output_type": "execute_result",
          "data": {
            "text/plain": [
              "16"
            ]
          },
          "metadata": {},
          "execution_count": 94
        }
      ]
    },
    {
      "cell_type": "code",
      "source": [
        "# Exercise 3\n",
        "\n",
        "def greet(name):\n",
        "  print(f\"Hello, {name} how are you doing?\")"
      ],
      "metadata": {
        "id": "0Uo-MABVUcsw"
      },
      "execution_count": null,
      "outputs": []
    },
    {
      "cell_type": "code",
      "source": [
        "greet('John')"
      ],
      "metadata": {
        "colab": {
          "base_uri": "https://localhost:8080/"
        },
        "id": "2iCcRUaLVfZB",
        "outputId": "8f4b4c5d-2f45-4510-b94b-1129a109a87e"
      },
      "execution_count": null,
      "outputs": [
        {
          "output_type": "stream",
          "name": "stdout",
          "text": [
            "Hello, John how are you doing?\n"
          ]
        }
      ]
    },
    {
      "cell_type": "code",
      "source": [
        "# Exercise 4\n",
        "import operator\n",
        "\n",
        "## Using Dictionary to map operators\n",
        "ops = {\n",
        "    \"+\": operator.add,\n",
        "    \"-\": operator.sub,\n",
        "    \"*\": operator.mul,\n",
        "    \"/\": operator.truediv\n",
        "}\n",
        "\n",
        "## Reading operator from user\n",
        "op_char = input(\"Enter operator (+, -, *, /) \")\n",
        "## Connecting operator with dictionary\n",
        "op_func = ops[op_char]\n",
        "\n",
        "## Reading the two operands\n",
        "a = float(input(\"Enter first number: \"))\n",
        "b = float(input(\"Enter second number: \"))\n",
        "\n",
        "## Applying operators to operands\n",
        "op_func(a,b)"
      ],
      "metadata": {
        "colab": {
          "base_uri": "https://localhost:8080/"
        },
        "id": "Vi5k0qAQViDq",
        "outputId": "3aaf5f11-2a70-4bde-9f41-55756ef8d4c7"
      },
      "execution_count": 5,
      "outputs": [
        {
          "name": "stdout",
          "output_type": "stream",
          "text": [
            "Enter operator (+, -, *, /) /\n",
            "Enter first number: 2\n",
            "Enter second number: 3\n"
          ]
        },
        {
          "output_type": "execute_result",
          "data": {
            "text/plain": [
              "0.6666666666666666"
            ]
          },
          "metadata": {},
          "execution_count": 5
        }
      ]
    },
    {
      "cell_type": "code",
      "source": [
        "# Option 2\n",
        "\n",
        "while True:\n",
        "  user_input = input(\"Enter the expression e.g: 2*3, 6-7: \")\n",
        "\n",
        "  if user_input.lower() == 'quit':\n",
        "    print(\"Calculator is exiting, Goodbye!\")\n",
        "    break\n",
        "\n",
        "  try:\n",
        "    num1, op, num2 = user_input.split()\n",
        "\n",
        "    num1 = float(num1)\n",
        "    num2 = float(num2)\n",
        "  except ValueError:\n",
        "    print(\"Invalid input. Please enter a valid expression.\")\n",
        "    continue\n",
        "\n",
        "  if op == '-':\n",
        "    print(num1 - num2)\n",
        "  elif op == '+':\n",
        "    print(num1 + num2)\n",
        "  elif op == '*':\n",
        "    print(num1 * num2)\n",
        "  elif op == '/':\n",
        "    if num2 == 0:\n",
        "      print(\"Division by zero is not allowed\")\n",
        "      continue\n",
        "    else:\n",
        "      print(num1 / num2)\n",
        "  else:\n",
        "    print(\"Invalid Number\")"
      ],
      "metadata": {
        "id": "o3Jw5aWuckMS",
        "colab": {
          "base_uri": "https://localhost:8080/"
        },
        "outputId": "2382c5fe-a07c-4857-b65d-3460435d60e7"
      },
      "execution_count": 10,
      "outputs": [
        {
          "output_type": "stream",
          "name": "stdout",
          "text": [
            "Enter the expression e.g: 2*3, 6-7: quit\n",
            "Goodbye\n",
            "Calculator is exiting, Goodbye!\n"
          ]
        }
      ]
    },
    {
      "cell_type": "code",
      "source": [
        "while True:\n",
        "    # Take user input\n",
        "    user_input = input(\"Enter an expression (e.g., '5 + 3' or 'quit' to exit): \")\n",
        "\n",
        "    # Check if the user wants to quit\n",
        "    if user_input.lower() == 'quit':\n",
        "        break\n",
        "\n",
        "    # Split the input into operands and operator\n",
        "    try:\n",
        "        num1, operator, num2 = user_input.split()\n",
        "        num1 = float(num1)\n",
        "        num2 = float(num2)\n",
        "    except ValueError:\n",
        "        print(\"Invalid input. Please enter a valid expression.\")\n",
        "        continue\n",
        "\n",
        "    # Perform the calculation\n",
        "    if operator == '+':\n",
        "        result = num1 + num2\n",
        "    elif operator == '-':\n",
        "        result = num1 - num2\n",
        "    elif operator == '*':\n",
        "        result = num1 * num2\n",
        "    elif operator == '/':\n",
        "        if num2 == 0:\n",
        "            print(\"Division by zero is not allowed.\")\n",
        "            continue\n",
        "        result = num1 / num2\n",
        "    else:\n",
        "        print(\"Invalid operator. Please use +, -, *, or /.\")\n",
        "        continue\n",
        "\n",
        "    print(\"Result:\", result)\n",
        "\n",
        "print(\"Calculator is exiting. Goodbye!\")\n"
      ],
      "metadata": {
        "id": "imXCbPvvfdEQ",
        "colab": {
          "base_uri": "https://localhost:8080/",
          "height": 408
        },
        "outputId": "fce5e2c8-6e42-4b33-a765-467069180f6a"
      },
      "execution_count": 9,
      "outputs": [
        {
          "output_type": "error",
          "ename": "KeyboardInterrupt",
          "evalue": "ignored",
          "traceback": [
            "\u001b[0;31m---------------------------------------------------------------------------\u001b[0m",
            "\u001b[0;31mKeyboardInterrupt\u001b[0m                         Traceback (most recent call last)",
            "\u001b[0;32m<ipython-input-9-d234b5d9c64c>\u001b[0m in \u001b[0;36m<cell line: 1>\u001b[0;34m()\u001b[0m\n\u001b[1;32m      1\u001b[0m \u001b[0;32mwhile\u001b[0m \u001b[0;32mTrue\u001b[0m\u001b[0;34m:\u001b[0m\u001b[0;34m\u001b[0m\u001b[0;34m\u001b[0m\u001b[0m\n\u001b[1;32m      2\u001b[0m     \u001b[0;31m# Take user input\u001b[0m\u001b[0;34m\u001b[0m\u001b[0;34m\u001b[0m\u001b[0m\n\u001b[0;32m----> 3\u001b[0;31m     \u001b[0muser_input\u001b[0m \u001b[0;34m=\u001b[0m \u001b[0minput\u001b[0m\u001b[0;34m(\u001b[0m\u001b[0;34m\"Enter an expression (e.g., '5 + 3' or 'quit' to exit): \"\u001b[0m\u001b[0;34m)\u001b[0m\u001b[0;34m\u001b[0m\u001b[0;34m\u001b[0m\u001b[0m\n\u001b[0m\u001b[1;32m      4\u001b[0m \u001b[0;34m\u001b[0m\u001b[0m\n\u001b[1;32m      5\u001b[0m     \u001b[0;31m# Check if the user wants to quit\u001b[0m\u001b[0;34m\u001b[0m\u001b[0;34m\u001b[0m\u001b[0m\n",
            "\u001b[0;32m/usr/local/lib/python3.10/dist-packages/ipykernel/kernelbase.py\u001b[0m in \u001b[0;36mraw_input\u001b[0;34m(self, prompt)\u001b[0m\n\u001b[1;32m    849\u001b[0m                 \u001b[0;34m\"raw_input was called, but this frontend does not support input requests.\"\u001b[0m\u001b[0;34m\u001b[0m\u001b[0;34m\u001b[0m\u001b[0m\n\u001b[1;32m    850\u001b[0m             )\n\u001b[0;32m--> 851\u001b[0;31m         return self._input_request(str(prompt),\n\u001b[0m\u001b[1;32m    852\u001b[0m             \u001b[0mself\u001b[0m\u001b[0;34m.\u001b[0m\u001b[0m_parent_ident\u001b[0m\u001b[0;34m,\u001b[0m\u001b[0;34m\u001b[0m\u001b[0;34m\u001b[0m\u001b[0m\n\u001b[1;32m    853\u001b[0m             \u001b[0mself\u001b[0m\u001b[0;34m.\u001b[0m\u001b[0m_parent_header\u001b[0m\u001b[0;34m,\u001b[0m\u001b[0;34m\u001b[0m\u001b[0;34m\u001b[0m\u001b[0m\n",
            "\u001b[0;32m/usr/local/lib/python3.10/dist-packages/ipykernel/kernelbase.py\u001b[0m in \u001b[0;36m_input_request\u001b[0;34m(self, prompt, ident, parent, password)\u001b[0m\n\u001b[1;32m    893\u001b[0m             \u001b[0;32mexcept\u001b[0m \u001b[0mKeyboardInterrupt\u001b[0m\u001b[0;34m:\u001b[0m\u001b[0;34m\u001b[0m\u001b[0;34m\u001b[0m\u001b[0m\n\u001b[1;32m    894\u001b[0m                 \u001b[0;31m# re-raise KeyboardInterrupt, to truncate traceback\u001b[0m\u001b[0;34m\u001b[0m\u001b[0;34m\u001b[0m\u001b[0m\n\u001b[0;32m--> 895\u001b[0;31m                 \u001b[0;32mraise\u001b[0m \u001b[0mKeyboardInterrupt\u001b[0m\u001b[0;34m(\u001b[0m\u001b[0;34m\"Interrupted by user\"\u001b[0m\u001b[0;34m)\u001b[0m \u001b[0;32mfrom\u001b[0m \u001b[0;32mNone\u001b[0m\u001b[0;34m\u001b[0m\u001b[0;34m\u001b[0m\u001b[0m\n\u001b[0m\u001b[1;32m    896\u001b[0m             \u001b[0;32mexcept\u001b[0m \u001b[0mException\u001b[0m \u001b[0;32mas\u001b[0m \u001b[0me\u001b[0m\u001b[0;34m:\u001b[0m\u001b[0;34m\u001b[0m\u001b[0;34m\u001b[0m\u001b[0m\n\u001b[1;32m    897\u001b[0m                 \u001b[0mself\u001b[0m\u001b[0;34m.\u001b[0m\u001b[0mlog\u001b[0m\u001b[0;34m.\u001b[0m\u001b[0mwarning\u001b[0m\u001b[0;34m(\u001b[0m\u001b[0;34m\"Invalid Message:\"\u001b[0m\u001b[0;34m,\u001b[0m \u001b[0mexc_info\u001b[0m\u001b[0;34m=\u001b[0m\u001b[0;32mTrue\u001b[0m\u001b[0;34m)\u001b[0m\u001b[0;34m\u001b[0m\u001b[0;34m\u001b[0m\u001b[0m\n",
            "\u001b[0;31mKeyboardInterrupt\u001b[0m: Interrupted by user"
          ]
        }
      ]
    },
    {
      "cell_type": "code",
      "source": [],
      "metadata": {
        "id": "IADT6uqkx8_p"
      },
      "execution_count": null,
      "outputs": []
    }
  ]
}