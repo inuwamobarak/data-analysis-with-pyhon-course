{
  "nbformat": 4,
  "nbformat_minor": 0,
  "metadata": {
    "colab": {
      "provenance": []
    },
    "kernelspec": {
      "name": "python3",
      "display_name": "Python 3"
    },
    "language_info": {
      "name": "python"
    }
  },
  "cells": [
    {
      "cell_type": "markdown",
      "source": [
        "## List"
      ],
      "metadata": {
        "id": "N25pjBbWpHFc"
      }
    },
    {
      "cell_type": "code",
      "execution_count": 1,
      "metadata": {
        "colab": {
          "base_uri": "https://localhost:8080/"
        },
        "id": "XQGSNT_8mFRv",
        "outputId": "0c1c1194-8025-4a98-bb2e-c86822ade648"
      },
      "outputs": [
        {
          "output_type": "execute_result",
          "data": {
            "text/plain": [
              "list"
            ]
          },
          "metadata": {},
          "execution_count": 1
        }
      ],
      "source": [
        "# Creating a Python List\n",
        "\n",
        "items = ['John', 2000, False, 0.2]\n",
        "type(items)"
      ]
    },
    {
      "cell_type": "code",
      "source": [
        "# A list of strings\n",
        "names = ['John', 'Paul', 'Musa', 'Sandra', 'Ene']\n",
        "type(names)"
      ],
      "metadata": {
        "colab": {
          "base_uri": "https://localhost:8080/"
        },
        "id": "BPbKCF6ipdcc",
        "outputId": "859b0091-f454-4714-9c70-35523999acf3"
      },
      "execution_count": 2,
      "outputs": [
        {
          "output_type": "execute_result",
          "data": {
            "text/plain": [
              "list"
            ]
          },
          "metadata": {},
          "execution_count": 2
        }
      ]
    },
    {
      "cell_type": "code",
      "source": [
        "# A list of booleans\n",
        "female = [True, False, False, True, False]\n",
        "type(female)"
      ],
      "metadata": {
        "colab": {
          "base_uri": "https://localhost:8080/"
        },
        "id": "ixJ35FQLp1EH",
        "outputId": "055435df-6a2f-43fb-81a0-6800fa99bf98"
      },
      "execution_count": 3,
      "outputs": [
        {
          "output_type": "execute_result",
          "data": {
            "text/plain": [
              "list"
            ]
          },
          "metadata": {},
          "execution_count": 3
        }
      ]
    },
    {
      "cell_type": "code",
      "source": [
        "# A list of integers and float\n",
        "measurements = [23, 23.0, 18.8, 24, 20.2]\n",
        "type(measurements)"
      ],
      "metadata": {
        "id": "2WJiAhhTrD2T",
        "colab": {
          "base_uri": "https://localhost:8080/"
        },
        "outputId": "15674775-c70a-4da1-abfb-6c30966e91fe"
      },
      "execution_count": 4,
      "outputs": [
        {
          "output_type": "execute_result",
          "data": {
            "text/plain": [
              "list"
            ]
          },
          "metadata": {},
          "execution_count": 4
        }
      ]
    },
    {
      "cell_type": "markdown",
      "source": [
        "## List Operations"
      ],
      "metadata": {
        "id": "qtBV4pEvr3FX"
      }
    },
    {
      "cell_type": "code",
      "source": [
        "# Modifying lists\n",
        "\n",
        "## Replacing\n",
        "measurements[2] = 19\n",
        "print(measurements)"
      ],
      "metadata": {
        "colab": {
          "base_uri": "https://localhost:8080/"
        },
        "id": "r6j3pE1sreC5",
        "outputId": "1f60b394-9e2b-4d44-cce9-36355b046b1f"
      },
      "execution_count": 5,
      "outputs": [
        {
          "output_type": "stream",
          "name": "stdout",
          "text": [
            "[23, 23.0, 19, 24, 20.2]\n"
          ]
        }
      ]
    },
    {
      "cell_type": "code",
      "source": [
        "## Error Handling\n",
        "try:\n",
        "  measurements[2] = 19\n",
        "except:\n",
        "  print(\"Provide a valide index\")"
      ],
      "metadata": {
        "id": "tIcj3Sy4tSy3"
      },
      "execution_count": 6,
      "outputs": []
    },
    {
      "cell_type": "code",
      "source": [
        "## Append()\n",
        "\n",
        "measurements.append(21)\n",
        "print(measurements)"
      ],
      "metadata": {
        "colab": {
          "base_uri": "https://localhost:8080/"
        },
        "id": "taDGlDEDosBJ",
        "outputId": "1afcbf46-0b10-4bda-ea15-d005f72e8ecf"
      },
      "execution_count": 7,
      "outputs": [
        {
          "output_type": "stream",
          "name": "stdout",
          "text": [
            "[23, 23.0, 19, 24, 20.2, 21]\n"
          ]
        }
      ]
    },
    {
      "cell_type": "code",
      "source": [
        "## remove()\n",
        "\n",
        "measurements.remove(21)\n",
        "print(measurements)"
      ],
      "metadata": {
        "id": "LFKsI8v7pU8Z",
        "colab": {
          "base_uri": "https://localhost:8080/"
        },
        "outputId": "6f89b38f-995d-4fd3-bff2-dcbb270f0a70"
      },
      "execution_count": 8,
      "outputs": [
        {
          "output_type": "stream",
          "name": "stdout",
          "text": [
            "[23, 23.0, 19, 24, 20.2]\n"
          ]
        }
      ]
    },
    {
      "cell_type": "code",
      "source": [
        "## Accessing list elements\n",
        "\n",
        "first_item = measurements[0]\n",
        "print(first_item)"
      ],
      "metadata": {
        "id": "4oO5ElSOsNVk",
        "colab": {
          "base_uri": "https://localhost:8080/"
        },
        "outputId": "7c37eeb9-a4be-46f0-b55b-e85ab2053169"
      },
      "execution_count": 9,
      "outputs": [
        {
          "output_type": "stream",
          "name": "stdout",
          "text": [
            "23\n"
          ]
        }
      ]
    },
    {
      "cell_type": "code",
      "source": [
        "## List Slicing\n",
        "\n",
        "sliced_items = measurements[0:5]\n",
        "print(sliced_items)"
      ],
      "metadata": {
        "id": "7y-2W0ajx8IM",
        "colab": {
          "base_uri": "https://localhost:8080/"
        },
        "outputId": "c9702cc4-7cf5-435e-a620-22f053a95e06"
      },
      "execution_count": 10,
      "outputs": [
        {
          "output_type": "stream",
          "name": "stdout",
          "text": [
            "[23, 23.0, 19, 24, 20.2]\n"
          ]
        }
      ]
    },
    {
      "cell_type": "markdown",
      "source": [
        "## Tuple"
      ],
      "metadata": {
        "id": "EKwac5D9zWmc"
      }
    },
    {
      "cell_type": "code",
      "source": [
        "# Creating a tuple\n",
        "\n",
        "scores = (45, 67, 38, 90, 56)\n",
        "type(scores)"
      ],
      "metadata": {
        "id": "LE1ooboHzatD",
        "colab": {
          "base_uri": "https://localhost:8080/"
        },
        "outputId": "bff1f8df-3e74-4c6f-f1e1-78af517a1c65"
      },
      "execution_count": 11,
      "outputs": [
        {
          "output_type": "execute_result",
          "data": {
            "text/plain": [
              "tuple"
            ]
          },
          "metadata": {},
          "execution_count": 11
        }
      ]
    },
    {
      "cell_type": "code",
      "source": [
        "## Viewing elements\n",
        "\n",
        "print(scores[3])"
      ],
      "metadata": {
        "id": "t3YX6Hiw0Zmm",
        "colab": {
          "base_uri": "https://localhost:8080/"
        },
        "outputId": "b53e148a-f526-4a73-92c8-316311de52fa"
      },
      "execution_count": 12,
      "outputs": [
        {
          "output_type": "stream",
          "name": "stdout",
          "text": [
            "90\n"
          ]
        }
      ]
    },
    {
      "cell_type": "code",
      "source": [
        "coordinates = (3, 5)\n",
        "x, y = coordinates\n",
        "print(x)\n",
        "print(y)"
      ],
      "metadata": {
        "id": "HbVxpRxK1hcS",
        "colab": {
          "base_uri": "https://localhost:8080/"
        },
        "outputId": "fc3d9806-b4be-4368-b1e1-4e23bd565c57"
      },
      "execution_count": 13,
      "outputs": [
        {
          "output_type": "stream",
          "name": "stdout",
          "text": [
            "3\n",
            "5\n"
          ]
        }
      ]
    },
    {
      "cell_type": "markdown",
      "source": [
        "## Strings"
      ],
      "metadata": {
        "id": "hFa7Be3d2onV"
      }
    },
    {
      "cell_type": "code",
      "source": [
        "## Creating Strings\n",
        "\n",
        "sentence = \"Please, leave a review\"\n",
        "type(sentence)"
      ],
      "metadata": {
        "id": "pMMLvtGr2rPv",
        "colab": {
          "base_uri": "https://localhost:8080/"
        },
        "outputId": "a153b3c2-4449-445b-eee8-61bd2498ea12"
      },
      "execution_count": 14,
      "outputs": [
        {
          "output_type": "execute_result",
          "data": {
            "text/plain": [
              "str"
            ]
          },
          "metadata": {},
          "execution_count": 14
        }
      ]
    },
    {
      "cell_type": "code",
      "source": [
        "## String Operations\n",
        "\n",
        "sentence[-14:16] # indexing"
      ],
      "metadata": {
        "id": "LQ7NNRMA4GFt",
        "colab": {
          "base_uri": "https://localhost:8080/",
          "height": 35
        },
        "outputId": "c6b8fd56-148d-48bd-c5f4-920fdf3e061c"
      },
      "execution_count": 24,
      "outputs": [
        {
          "output_type": "execute_result",
          "data": {
            "text/plain": [
              "'leave a '"
            ],
            "application/vnd.google.colaboratory.intrinsic+json": {
              "type": "string"
            }
          },
          "metadata": {},
          "execution_count": 24
        }
      ]
    },
    {
      "cell_type": "code",
      "source": [
        "print(sentence[0])"
      ],
      "metadata": {
        "colab": {
          "base_uri": "https://localhost:8080/"
        },
        "id": "ZwJGgUlI5nS7",
        "outputId": "206ed405-30dd-45da-cb6b-ba9507ce90fc"
      },
      "execution_count": 25,
      "outputs": [
        {
          "output_type": "stream",
          "name": "stdout",
          "text": [
            "P\n"
          ]
        }
      ]
    },
    {
      "cell_type": "code",
      "source": [
        "## String methods\n",
        "\n",
        "### Uppercase\n",
        "uppercase_sentence = sentence.upper()\n",
        "print(uppercase_sentence)\n",
        "###\n",
        "uppercase_sentence.isupper()"
      ],
      "metadata": {
        "colab": {
          "base_uri": "https://localhost:8080/"
        },
        "id": "mZi3l3Ns7E1U",
        "outputId": "f3f282e6-81c8-46fe-83ea-12f26f5b522e"
      },
      "execution_count": 33,
      "outputs": [
        {
          "output_type": "stream",
          "name": "stdout",
          "text": [
            "PLEASE, LEAVE A REVIEW\n"
          ]
        },
        {
          "output_type": "execute_result",
          "data": {
            "text/plain": [
              "True"
            ]
          },
          "metadata": {},
          "execution_count": 33
        }
      ]
    },
    {
      "cell_type": "code",
      "source": [
        "lowercase_sentence = sentence.lower()\n",
        "print(lowercase_sentence)\n",
        "###\n",
        "lowercase_sentence.islower()"
      ],
      "metadata": {
        "colab": {
          "base_uri": "https://localhost:8080/"
        },
        "id": "YKzjwxxL7ZeI",
        "outputId": "41628a88-3180-4c93-df13-181cc09dbb99"
      },
      "execution_count": 34,
      "outputs": [
        {
          "output_type": "stream",
          "name": "stdout",
          "text": [
            "please, leave a review\n"
          ]
        },
        {
          "output_type": "execute_result",
          "data": {
            "text/plain": [
              "True"
            ]
          },
          "metadata": {},
          "execution_count": 34
        }
      ]
    },
    {
      "cell_type": "code",
      "source": [
        "capitalized_sentence = sentence.capitalize()\n",
        "print(capitalized_sentence)"
      ],
      "metadata": {
        "colab": {
          "base_uri": "https://localhost:8080/"
        },
        "id": "CSijeGFs8Keq",
        "outputId": "27b8a145-72f9-4ccb-adf5-ab708a0850ac"
      },
      "execution_count": 36,
      "outputs": [
        {
          "output_type": "stream",
          "name": "stdout",
          "text": [
            "Please, leave a review\n"
          ]
        }
      ]
    },
    {
      "cell_type": "code",
      "source": [
        "password = \"12345\"\n",
        "password.isdigit()"
      ],
      "metadata": {
        "colab": {
          "base_uri": "https://localhost:8080/"
        },
        "id": "SGDdRMFM8lsq",
        "outputId": "1d15a973-8504-479e-e578-1282b2d69dc0"
      },
      "execution_count": 32,
      "outputs": [
        {
          "output_type": "execute_result",
          "data": {
            "text/plain": [
              "True"
            ]
          },
          "metadata": {},
          "execution_count": 32
        }
      ]
    },
    {
      "cell_type": "markdown",
      "source": [
        "## Dictionaries"
      ],
      "metadata": {
        "id": "ASln7aKFACm-"
      }
    },
    {
      "cell_type": "code",
      "source": [
        "## Creating a Dictionary\n",
        "\n",
        "attendance = {\n",
        "    'Nigeria':4,\n",
        "    'Togo':3,\n",
        "    'Ghana':4,\n",
        "    'Cameroon':6\n",
        "}\n",
        "print(attendance)"
      ],
      "metadata": {
        "colab": {
          "base_uri": "https://localhost:8080/"
        },
        "id": "ZSVq-22-9Ifo",
        "outputId": "7d99d52e-b18a-472b-8494-d0ea32e83f4c"
      },
      "execution_count": 37,
      "outputs": [
        {
          "output_type": "stream",
          "name": "stdout",
          "text": [
            "{'Nigeria': 4, 'Togo': 3, 'Ghana': 4, 'Cameroon': 6}\n"
          ]
        }
      ]
    },
    {
      "cell_type": "code",
      "source": [
        "\n",
        "attendance = {\n",
        "    'Nigeria':['Rivers', 'Abia', 'Imo', 'Enugu', 'Benue'],\n",
        "    'Togo':['Savanes', 'Kara', 'Centrale', 'Plateaux', 'Maritime'],\n",
        "    'Ghana':['Ashanti', 'Bono East', 'Central', 'Kumasi', 'Techiman'],\n",
        "    'Cameroon':['Dualla', 'Ebolowa', 'Bamenda', 'Yaounde', 'Littoral'],\n",
        "}\n",
        "\n",
        "print(attendance)"
      ],
      "metadata": {
        "colab": {
          "base_uri": "https://localhost:8080/"
        },
        "id": "AUkuUvpeB0IA",
        "outputId": "5692ea22-cb06-4688-fbe9-b1acd5122408"
      },
      "execution_count": 38,
      "outputs": [
        {
          "output_type": "stream",
          "name": "stdout",
          "text": [
            "{'Nigeria': ['Rivers', 'Abia', 'Imo', 'Enugu', 'Benue'], 'Togo': ['Savanes', 'Kara', 'Centrale', 'Plateaux', 'Maritime'], 'Ghana': ['Ashanti', 'Bono East', 'Central', 'Kumasi', 'Techiman'], 'Cameroon': ['Dualla', 'Ebolowa', 'Bamenda', 'Yaounde', 'Littoral']}\n"
          ]
        }
      ]
    },
    {
      "cell_type": "code",
      "source": [
        "## Accessing Key Values\n",
        "ghana = attendance['Ghana']\n",
        "print(ghana)"
      ],
      "metadata": {
        "colab": {
          "base_uri": "https://localhost:8080/"
        },
        "id": "YhtMCNWmEmai",
        "outputId": "5ad5b9d9-f096-4f1f-ba7f-898dd096d2e3"
      },
      "execution_count": 42,
      "outputs": [
        {
          "output_type": "stream",
          "name": "stdout",
          "text": [
            "['Ashanti', 'Bono East', 'Central', 'Kumasi', 'Techiman']\n"
          ]
        }
      ]
    },
    {
      "cell_type": "code",
      "source": [
        "type(ghana)"
      ],
      "metadata": {
        "colab": {
          "base_uri": "https://localhost:8080/"
        },
        "id": "KW4BG7x2FXaS",
        "outputId": "7a6d4d5d-ea37-43df-e4dd-f540f7bd51b2"
      },
      "execution_count": 40,
      "outputs": [
        {
          "output_type": "execute_result",
          "data": {
            "text/plain": [
              "list"
            ]
          },
          "metadata": {},
          "execution_count": 40
        }
      ]
    },
    {
      "cell_type": "code",
      "source": [
        "## indexing\n",
        "bono = attendance['Ghana'][1]\n",
        "print(bono)\n",
        "type(bono)"
      ],
      "metadata": {
        "colab": {
          "base_uri": "https://localhost:8080/"
        },
        "id": "g9T1PWMMFam6",
        "outputId": "abf0ebd0-9277-4609-ee68-4df5a62e805d"
      },
      "execution_count": 44,
      "outputs": [
        {
          "output_type": "stream",
          "name": "stdout",
          "text": [
            "Bono East\n"
          ]
        },
        {
          "output_type": "execute_result",
          "data": {
            "text/plain": [
              "str"
            ]
          },
          "metadata": {},
          "execution_count": 44
        }
      ]
    },
    {
      "cell_type": "code",
      "source": [],
      "metadata": {
        "id": "NZ-QXfwuGqrc"
      },
      "execution_count": null,
      "outputs": []
    }
  ]
}