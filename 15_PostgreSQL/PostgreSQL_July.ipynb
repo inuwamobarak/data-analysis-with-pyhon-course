{
  "nbformat": 4,
  "nbformat_minor": 0,
  "metadata": {
    "colab": {
      "provenance": []
    },
    "kernelspec": {
      "name": "python3",
      "display_name": "Python 3"
    },
    "language_info": {
      "name": "python"
    }
  },
  "cells": [
    {
      "cell_type": "code",
      "execution_count": 1,
      "metadata": {
        "colab": {
          "base_uri": "https://localhost:8080/"
        },
        "id": "TxcetMCKWXfx",
        "outputId": "726e3d35-52ef-4adb-b291-f4e18d2bccee"
      },
      "outputs": [
        {
          "output_type": "stream",
          "name": "stdout",
          "text": [
            "\u001b[33m\r0% [Working]\u001b[0m\r            \rGet:1 https://cloud.r-project.org/bin/linux/ubuntu jammy-cran40/ InRelease [3,626 B]\n",
            "\u001b[33m\r0% [Connecting to archive.ubuntu.com (91.189.91.83)] [Connecting to security.ubuntu.com (91.189.91.8\u001b[0m\u001b[33m\r0% [Connecting to archive.ubuntu.com (91.189.91.83)] [Connecting to security.ubuntu.com (91.189.91.8\u001b[0m\r                                                                                                    \rHit:2 https://developer.download.nvidia.com/compute/cuda/repos/ubuntu2204/x86_64  InRelease\n",
            "\u001b[33m\r0% [Connecting to archive.ubuntu.com (91.189.91.83)] [Connecting to security.ubuntu.com (91.189.91.8\u001b[0m\r                                                                                                    \rGet:3 http://security.ubuntu.com/ubuntu jammy-security InRelease [110 kB]\n",
            "\u001b[33m\r0% [Waiting for headers] [3 InRelease 12.7 kB/110 kB 12%] [Connecting to ppa.launchpadcontent.net (1\u001b[0m\r                                                                                                    \rHit:4 http://archive.ubuntu.com/ubuntu jammy InRelease\n",
            "Get:5 http://archive.ubuntu.com/ubuntu jammy-updates InRelease [119 kB]\n",
            "Get:6 http://archive.ubuntu.com/ubuntu jammy-backports InRelease [109 kB]\n",
            "Get:7 https://ppa.launchpadcontent.net/c2d4u.team/c2d4u4.0+/ubuntu jammy InRelease [18.1 kB]\n",
            "Get:8 http://security.ubuntu.com/ubuntu jammy-security/universe amd64 Packages [1,008 kB]\n",
            "Get:9 http://archive.ubuntu.com/ubuntu jammy-updates/universe amd64 Packages [1,274 kB]\n",
            "Get:10 http://security.ubuntu.com/ubuntu jammy-security/main amd64 Packages [1,192 kB]\n",
            "Get:11 http://archive.ubuntu.com/ubuntu jammy-updates/main amd64 Packages [1,461 kB]\n",
            "Hit:12 https://ppa.launchpadcontent.net/deadsnakes/ppa/ubuntu jammy InRelease\n",
            "Hit:13 https://ppa.launchpadcontent.net/graphics-drivers/ppa/ubuntu jammy InRelease\n",
            "Hit:14 https://ppa.launchpadcontent.net/ubuntugis/ppa/ubuntu jammy InRelease\n",
            "Get:15 https://ppa.launchpadcontent.net/c2d4u.team/c2d4u4.0+/ubuntu jammy/main Sources [2,240 kB]\n",
            "Get:16 https://ppa.launchpadcontent.net/c2d4u.team/c2d4u4.0+/ubuntu jammy/main amd64 Packages [1,150 kB]\n",
            "Fetched 8,685 kB in 5s (1,846 kB/s)\n",
            "Reading package lists... Done\n",
            "Building dependency tree... Done\n",
            "Reading state information... Done\n",
            "28 packages can be upgraded. Run 'apt list --upgradable' to see them.\n",
            "Reading package lists... Done\n",
            "Building dependency tree... Done\n",
            "Reading state information... Done\n",
            "The following additional packages will be installed:\n",
            "  libcommon-sense-perl libjson-perl libjson-xs-perl libtypes-serialiser-perl logrotate netbase\n",
            "  postgresql-14 postgresql-client-14 postgresql-client-common postgresql-common ssl-cert sysstat\n",
            "Suggested packages:\n",
            "  bsd-mailx | mailx postgresql-doc postgresql-doc-14 isag\n",
            "The following NEW packages will be installed:\n",
            "  libcommon-sense-perl libjson-perl libjson-xs-perl libtypes-serialiser-perl logrotate netbase\n",
            "  postgresql postgresql-14 postgresql-client-14 postgresql-client-common postgresql-common\n",
            "  postgresql-contrib ssl-cert sysstat\n",
            "0 upgraded, 14 newly installed, 0 to remove and 28 not upgraded.\n",
            "Need to get 18.3 MB of archives.\n",
            "After this operation, 51.6 MB of additional disk space will be used.\n",
            "Get:1 http://archive.ubuntu.com/ubuntu jammy-updates/main amd64 logrotate amd64 3.19.0-1ubuntu1.1 [54.3 kB]\n",
            "Get:2 http://archive.ubuntu.com/ubuntu jammy/main amd64 netbase all 6.3 [12.9 kB]\n",
            "Get:3 http://archive.ubuntu.com/ubuntu jammy/main amd64 libcommon-sense-perl amd64 3.75-2build1 [21.1 kB]\n",
            "Get:4 http://archive.ubuntu.com/ubuntu jammy/main amd64 libjson-perl all 4.04000-1 [81.8 kB]\n",
            "Get:5 http://archive.ubuntu.com/ubuntu jammy/main amd64 libtypes-serialiser-perl all 1.01-1 [11.6 kB]\n",
            "Get:6 http://archive.ubuntu.com/ubuntu jammy/main amd64 libjson-xs-perl amd64 4.030-1build3 [87.2 kB]\n",
            "Get:7 http://archive.ubuntu.com/ubuntu jammy/main amd64 postgresql-client-common all 238 [29.6 kB]\n",
            "Get:8 http://archive.ubuntu.com/ubuntu jammy-updates/main amd64 postgresql-client-14 amd64 14.9-0ubuntu0.22.04.1 [1,222 kB]\n",
            "Get:9 http://archive.ubuntu.com/ubuntu jammy/main amd64 ssl-cert all 1.1.2 [17.4 kB]\n",
            "Get:10 http://archive.ubuntu.com/ubuntu jammy/main amd64 postgresql-common all 238 [169 kB]\n",
            "Get:11 http://archive.ubuntu.com/ubuntu jammy-updates/main amd64 postgresql-14 amd64 14.9-0ubuntu0.22.04.1 [16.1 MB]\n",
            "Get:12 http://archive.ubuntu.com/ubuntu jammy/main amd64 postgresql all 14+238 [3,288 B]\n",
            "Get:13 http://archive.ubuntu.com/ubuntu jammy/main amd64 postgresql-contrib all 14+238 [3,292 B]\n",
            "Get:14 http://archive.ubuntu.com/ubuntu jammy-updates/main amd64 sysstat amd64 12.5.2-2ubuntu0.2 [487 kB]\n",
            "Fetched 18.3 MB in 1s (26.7 MB/s)\n",
            "Preconfiguring packages ...\n",
            "Selecting previously unselected package logrotate.\n",
            "(Reading database ... 120874 files and directories currently installed.)\n",
            "Preparing to unpack .../00-logrotate_3.19.0-1ubuntu1.1_amd64.deb ...\n",
            "Unpacking logrotate (3.19.0-1ubuntu1.1) ...\n",
            "Selecting previously unselected package netbase.\n",
            "Preparing to unpack .../01-netbase_6.3_all.deb ...\n",
            "Unpacking netbase (6.3) ...\n",
            "Selecting previously unselected package libcommon-sense-perl:amd64.\n",
            "Preparing to unpack .../02-libcommon-sense-perl_3.75-2build1_amd64.deb ...\n",
            "Unpacking libcommon-sense-perl:amd64 (3.75-2build1) ...\n",
            "Selecting previously unselected package libjson-perl.\n",
            "Preparing to unpack .../03-libjson-perl_4.04000-1_all.deb ...\n",
            "Unpacking libjson-perl (4.04000-1) ...\n",
            "Selecting previously unselected package libtypes-serialiser-perl.\n",
            "Preparing to unpack .../04-libtypes-serialiser-perl_1.01-1_all.deb ...\n",
            "Unpacking libtypes-serialiser-perl (1.01-1) ...\n",
            "Selecting previously unselected package libjson-xs-perl.\n",
            "Preparing to unpack .../05-libjson-xs-perl_4.030-1build3_amd64.deb ...\n",
            "Unpacking libjson-xs-perl (4.030-1build3) ...\n",
            "Selecting previously unselected package postgresql-client-common.\n",
            "Preparing to unpack .../06-postgresql-client-common_238_all.deb ...\n",
            "Unpacking postgresql-client-common (238) ...\n",
            "Selecting previously unselected package postgresql-client-14.\n",
            "Preparing to unpack .../07-postgresql-client-14_14.9-0ubuntu0.22.04.1_amd64.deb ...\n",
            "Unpacking postgresql-client-14 (14.9-0ubuntu0.22.04.1) ...\n",
            "Selecting previously unselected package ssl-cert.\n",
            "Preparing to unpack .../08-ssl-cert_1.1.2_all.deb ...\n",
            "Unpacking ssl-cert (1.1.2) ...\n",
            "Selecting previously unselected package postgresql-common.\n",
            "Preparing to unpack .../09-postgresql-common_238_all.deb ...\n",
            "Adding 'diversion of /usr/bin/pg_config to /usr/bin/pg_config.libpq-dev by postgresql-common'\n",
            "Unpacking postgresql-common (238) ...\n",
            "Selecting previously unselected package postgresql-14.\n",
            "Preparing to unpack .../10-postgresql-14_14.9-0ubuntu0.22.04.1_amd64.deb ...\n",
            "Unpacking postgresql-14 (14.9-0ubuntu0.22.04.1) ...\n",
            "Selecting previously unselected package postgresql.\n",
            "Preparing to unpack .../11-postgresql_14+238_all.deb ...\n",
            "Unpacking postgresql (14+238) ...\n",
            "Selecting previously unselected package postgresql-contrib.\n",
            "Preparing to unpack .../12-postgresql-contrib_14+238_all.deb ...\n",
            "Unpacking postgresql-contrib (14+238) ...\n",
            "Selecting previously unselected package sysstat.\n",
            "Preparing to unpack .../13-sysstat_12.5.2-2ubuntu0.2_amd64.deb ...\n",
            "Unpacking sysstat (12.5.2-2ubuntu0.2) ...\n",
            "Setting up logrotate (3.19.0-1ubuntu1.1) ...\n",
            "Created symlink /etc/systemd/system/timers.target.wants/logrotate.timer → /lib/systemd/system/logrotate.timer.\n",
            "Setting up libcommon-sense-perl:amd64 (3.75-2build1) ...\n",
            "Setting up ssl-cert (1.1.2) ...\n",
            "Setting up libtypes-serialiser-perl (1.01-1) ...\n",
            "Setting up libjson-perl (4.04000-1) ...\n",
            "Setting up netbase (6.3) ...\n",
            "Setting up sysstat (12.5.2-2ubuntu0.2) ...\n",
            "\n",
            "Creating config file /etc/default/sysstat with new version\n",
            "update-alternatives: using /usr/bin/sar.sysstat to provide /usr/bin/sar (sar) in auto mode\n",
            "Created symlink /etc/systemd/system/sysstat.service.wants/sysstat-collect.timer → /lib/systemd/system/sysstat-collect.timer.\n",
            "Created symlink /etc/systemd/system/sysstat.service.wants/sysstat-summary.timer → /lib/systemd/system/sysstat-summary.timer.\n",
            "Created symlink /etc/systemd/system/multi-user.target.wants/sysstat.service → /lib/systemd/system/sysstat.service.\n",
            "Setting up postgresql-client-common (238) ...\n",
            "Setting up libjson-xs-perl (4.030-1build3) ...\n",
            "Setting up postgresql-client-14 (14.9-0ubuntu0.22.04.1) ...\n",
            "update-alternatives: using /usr/share/postgresql/14/man/man1/psql.1.gz to provide /usr/share/man/man1/psql.1.gz (psql.1.gz) in auto mode\n",
            "Setting up postgresql-common (238) ...\n",
            "Adding user postgres to group ssl-cert\n",
            "\n",
            "Creating config file /etc/postgresql-common/createcluster.conf with new version\n",
            "Building PostgreSQL dictionaries from installed myspell/hunspell packages...\n",
            "Removing obsolete dictionary files:\n",
            "Created symlink /etc/systemd/system/multi-user.target.wants/postgresql.service → /lib/systemd/system/postgresql.service.\n",
            "Setting up postgresql-14 (14.9-0ubuntu0.22.04.1) ...\n",
            "Creating new PostgreSQL cluster 14/main ...\n",
            "/usr/lib/postgresql/14/bin/initdb -D /var/lib/postgresql/14/main --auth-local peer --auth-host scram-sha-256 --no-instructions\n",
            "The files belonging to this database system will be owned by user \"postgres\".\n",
            "This user must also own the server process.\n",
            "\n",
            "The database cluster will be initialized with locale \"en_US.UTF-8\".\n",
            "The default database encoding has accordingly been set to \"UTF8\".\n",
            "The default text search configuration will be set to \"english\".\n",
            "\n",
            "Data page checksums are disabled.\n",
            "\n",
            "fixing permissions on existing directory /var/lib/postgresql/14/main ... ok\n",
            "creating subdirectories ... ok\n",
            "selecting dynamic shared memory implementation ... posix\n",
            "selecting default max_connections ... 100\n",
            "selecting default shared_buffers ... 128MB\n",
            "selecting default time zone ... Etc/UTC\n",
            "creating configuration files ... ok\n",
            "running bootstrap script ... ok\n",
            "performing post-bootstrap initialization ... ok\n",
            "syncing data to disk ... ok\n",
            "update-alternatives: using /usr/share/postgresql/14/man/man1/postmaster.1.gz to provide /usr/share/man/man1/postmaster.1.gz (postmaster.1.gz) in auto mode\n",
            "invoke-rc.d: could not determine current runlevel\n",
            "invoke-rc.d: policy-rc.d denied execution of start.\n",
            "Setting up postgresql-contrib (14+238) ...\n",
            "Setting up postgresql (14+238) ...\n",
            "Processing triggers for man-db (2.10.2-1) ...\n"
          ]
        }
      ],
      "source": [
        "!apt update\n",
        "!apt install postgresql postgresql-contrib"
      ]
    },
    {
      "cell_type": "code",
      "source": [
        "!service postgresql start"
      ],
      "metadata": {
        "colab": {
          "base_uri": "https://localhost:8080/"
        },
        "id": "4D-__JwJZQWB",
        "outputId": "64216747-8bc3-4159-d7a6-be0c98fcab28"
      },
      "execution_count": 2,
      "outputs": [
        {
          "output_type": "stream",
          "name": "stdout",
          "text": [
            " * Starting PostgreSQL 14 database server\n",
            "   ...done.\n"
          ]
        }
      ]
    },
    {
      "cell_type": "code",
      "source": [
        "import sqlite3\n",
        "import psycopg2"
      ],
      "metadata": {
        "id": "fcH1sBlMc-Xn"
      },
      "execution_count": 3,
      "outputs": []
    },
    {
      "cell_type": "code",
      "source": [
        "!su -c \"createdb loctech\" postgres"
      ],
      "metadata": {
        "id": "TQSS5s78ibYc"
      },
      "execution_count": 14,
      "outputs": []
    },
    {
      "cell_type": "code",
      "source": [
        "!sudo -u postgres psql -c \"ALTER USER postgres PASSWORD 'root' \""
      ],
      "metadata": {
        "colab": {
          "base_uri": "https://localhost:8080/"
        },
        "id": "58tORMl5hS4Z",
        "outputId": "258991f5-b8a6-4137-8d56-9655adc5a185"
      },
      "execution_count": 6,
      "outputs": [
        {
          "output_type": "stream",
          "name": "stdout",
          "text": [
            "ALTER ROLE\n"
          ]
        }
      ]
    },
    {
      "cell_type": "code",
      "source": [
        "sqlite_conn = sqlite3.connect(\"/content/Neisseria.sqlite\")\n",
        "\n",
        "pg_conn = psycopg2.connect(\n",
        "    dbname='loctech',\n",
        "    user='postgres',\n",
        "    password='root',\n",
        "    host='localhost',\n",
        "    port='5432'\n",
        "\n",
        ")\n",
        "\n",
        "sqlite_cursor = sqlite_conn.cursor()"
      ],
      "metadata": {
        "id": "3hdPl2dDe0E3"
      },
      "execution_count": 16,
      "outputs": []
    },
    {
      "cell_type": "code",
      "source": [
        "sqlite_cursor.execute(\"SELECT name FROM sqlite_master WHERE type='table' \")\n",
        "data = sqlite_cursor.fetchall()\n",
        "print(data)"
      ],
      "metadata": {
        "colab": {
          "base_uri": "https://localhost:8080/"
        },
        "id": "08QUhjIRhHQ1",
        "outputId": "3e55bd43-8015-4bcd-ec10-063c45abde01"
      },
      "execution_count": 17,
      "outputs": [
        {
          "output_type": "stream",
          "name": "stdout",
          "text": [
            "[('DBSCHEMAS',), ('AUTOSQNUMBERS',), ('OBJSETTINGS',), ('STSETTINGS',), ('ERRORS',), ('ACTIONS',), ('OBJACTIONS',), ('EVENTLOG',), ('USERLOG',), ('ENTRYTABLE',), ('Z_ENTRYTABLE',), ('ENTRYINFOFIELDS',), ('Z_ENTRYINFOFIELDS',), ('ENTRYFLD',), ('Z_ENTRYFLD',), ('EXPERIMENTS',), ('Z_EXPERIMENTS',), ('EXPERATTACH',), ('Z_EXPERATTACH',), ('FPRINTFILES',), ('Z_FPRINTFILES',), ('FPRINT',), ('Z_FPRINT',), ('FPRINTREGION',), ('Z_FPRINTREGION',), ('FPRBNDCLS',), ('Z_FPRBNDCLS',), ('SEQUENCES',), ('Z_SEQUENCES',), ('SEQUENCEDATA',), ('Z_SEQUENCEDATA',), ('SEQTRACEFILES',), ('Z_SEQTRACEFILES',), ('OLIGOSEQ',), ('Z_OLIGOSEQ',), ('MATRIXVALS',), ('TRENDEXPERS',), ('Z_TRENDEXPERS',), ('TRENDDATA',), ('Z_TRENDDATA',), ('SPECEXPERS',), ('Z_SPECEXPERS',), ('SPECASPECT',), ('Z_SPECASPECT',), ('SPECTRUMPEAK',), ('Z_SPECTRUMPEAK',), ('SPECTRUMPEAKCLASSTYPES',), ('Z_SPECTRUMPEAKCLASSTYPES',), ('SPECTRUMPEAKCLASS',), ('Z_SPECTRUMPEAKCLASS',), ('OPTMAPEXPERS',), ('Z_OPTMAPEXPERS',), ('OPTMAPFRAGS',), ('Z_OPTMAPFRAGS',), ('SEQREADSETEXPERS',), ('Z_SEQREADSETEXPERS',), ('CHARDEF',), ('Z_CHARDEF',), ('CHARFLDDEF',), ('Z_CHARFLDDEF',), ('CHARFLDVAL',), ('Z_CHARFLDVAL',), ('CHAREXPERS',), ('Z_CHAREXPERS',), ('CHARVALS',), ('Z_CHARVALS',), ('CHARVECS',), ('Z_CHARVECS',), ('COMPARISONS',), ('Z_COMPARISONS',), ('COMPAREXTS',), ('Z_COMPAREXTS',), ('COMPARMEMB',), ('Z_COMPARMEMB',), ('COMPARASPECT',), ('Z_COMPARASPECT',), ('DBSETTINGS',), ('DBUSERSETTINGS',), ('ENLEVELS',), ('Z_ENLEVELS',), ('CRSSLNKTYPE',), ('Z_CRSSLNKTYPE',), ('CRSSLNK',), ('Z_CRSSLNK',), ('OBJATTCH',), ('Z_OBJATTCH',), ('USERS',), ('Z_USERS',), ('USERKEYS',), ('Z_USERKEYS',), ('USERGROUPS',), ('Z_USERGROUPS',), ('GROUPRIGHTS',), ('Z_GROUPRIGHTS',), ('USERMEMB',), ('Z_USERMEMB',), ('SIGNATURES',), ('OBJQUERIES',), ('Z_OBJQUERIES',), ('OBJVIEWS',), ('Z_OBJVIEWS',), ('OBJVIEWMEMB',), ('Z_OBJVIEWMEMB',), ('CHARACTERVIEWS',), ('Z_CHARACTERVIEWS',), ('CHARACTERVIEWMEMB',), ('Z_CHARACTERVIEWMEMB',), ('PASMBL',), ('Z_PASMBL',), ('PAPIPL',), ('Z_PAPIPL',), ('PARECSET',), ('Z_PARECSET',), ('METAGEN',), ('Z_METAGEN',), ('DECISNTW',), ('Z_DECISNTW',), ('ALIGNPROJ',), ('Z_ALIGNPROJ',), ('CHROMOCOMP',), ('Z_CHROMOCOMP',), ('ANNOTATION',), ('Z_ANNOTATION',), ('BLASTPROJ',), ('Z_BLASTPROJ',), ('IDENTPROJ',), ('Z_IDENTPROJ',), ('IDCLASSIF',), ('Z_IDCLASSIF',), ('PLUGINS',), ('Z_PLUGINS',), ('ANTEMPLATES',), ('Z_ANTEMPLATES',), ('REPTEMPLATES',), ('Z_REPTEMPLATES',), ('MLSTSEQVARIANTS',), ('Z_MLSTSEQVARIANTS',), ('MLSTSEQTYPES',), ('Z_MLSTSEQTYPES',), ('MLSTCC',), ('Z_MLSTCC',), ('GENOMEANALYSIS',), ('Z_GENOMEANALYSIS',)]\n"
          ]
        }
      ]
    },
    {
      "cell_type": "code",
      "source": [
        "sqlite_cursor.execute(\"SELECT * FROM EXPERIMENTS \")\n",
        "print(sqlite_cursor.fetchall())"
      ],
      "metadata": {
        "colab": {
          "base_uri": "https://localhost:8080/"
        },
        "id": "SB3QzyEulfDk",
        "outputId": "24bd631a-a43f-4b45-d883-00a933da1dd6"
      },
      "execution_count": 18,
      "outputs": [
        {
          "output_type": "stream",
          "name": "stdout",
          "text": [
            "[(-1, 0, '_DefaultUser_', 1, 'MLST', 'MLST', 'Character', '<CharType><Locked>0</Locked><ComparisonSettings/><Settings><Settings Binary=\"0\" DecimalDigits=\"0\" OpenSet=\"0\" AbsetIsZero=\"0\" ShowZero=\"1\" IndividualRanges=\"0\" StoreType=\"Auto\" GlobalRangeMin=\"0.00000\" GlobalRangeMax=\"1000.00000\"/><GlobalColorScale Contin=\"1\"><Point Posit=\"0\" R=\"255\" G=\"255\" B=\"255\"/><Point Posit=\"1000\" R=\"0\" G=\"0\" B=\"0\"/></GlobalColorScale><Display DisplayType=\"0\" Columns=\"10\" CellType=\"0\" CompDispType=\"1\"/></Settings><DefaultField>-1</DefaultField><Quantifications><Quantif Active=\"Yes\">VALUE</Quantif></Quantifications><Mappings/><CostMatrix><CostData version=\"2\">Q09MTC4AAAAAAAAAAAAAAAEAAABJQVJSGgAAAAAAAAAKAAAAQ09TVE1BVFJJWAAAAAA=</CostData></CostMatrix></CharType>', '<LevelSettings><LevelUsage DefType=\"DefAllLevels\"><SummaryFilter/></LevelUsage><LevelSummary Method=\"SummExperPickOne\"><Options/></LevelSummary></LevelSettings>', None), (-1, 0, '_DefaultUser_', 1, 'abcZ', 'abcZ', 'Sequence', '<SeqType><Locked>0</Locked><ComparisonSettings/><Settings><Nucl>1</Nucl><StoreInDb>1</StoreInDb></Settings><Alignment PenalOpenGap=\"100\" PenalUnitGap=\"0\" FastAlign=\"1\" FastCount=\"2\" FastDiagCount=\"99\"/><CharConv ExcludeTrivials=\"1\" ExcludeGaps=\"1\" ActiveZonesOnly=\"1\"/><Reference/><RefLength>0</RefLength></SeqType>', '<LevelSettings><LevelUsage DefType=\"DefAllLevels\"><SummaryFilter/></LevelUsage><LevelSummary Method=\"SummExperPickOne\"><Options/></LevelSummary></LevelSettings>', None), (-1, 0, '_DefaultUser_', 1, 'adk', 'adk', 'Sequence', '<SeqType><Locked>0</Locked><ComparisonSettings/><Settings><Nucl>1</Nucl><StoreInDb>1</StoreInDb></Settings><Alignment PenalOpenGap=\"100\" PenalUnitGap=\"0\" FastAlign=\"1\" FastCount=\"2\" FastDiagCount=\"99\"/><CharConv ExcludeTrivials=\"1\" ExcludeGaps=\"1\" ActiveZonesOnly=\"1\"/><Reference/><RefLength>0</RefLength></SeqType>', '<LevelSettings><LevelUsage DefType=\"DefAllLevels\"><SummaryFilter/></LevelUsage><LevelSummary Method=\"SummExperPickOne\"><Options/></LevelSummary></LevelSettings>', None), (-1, 0, '_DefaultUser_', 1, 'aroE', 'aroE', 'Sequence', '<SeqType><Locked>0</Locked><ComparisonSettings/><Settings><Nucl>1</Nucl><StoreInDb>1</StoreInDb></Settings><Alignment PenalOpenGap=\"100\" PenalUnitGap=\"0\" FastAlign=\"1\" FastCount=\"2\" FastDiagCount=\"99\"/><CharConv ExcludeTrivials=\"1\" ExcludeGaps=\"1\" ActiveZonesOnly=\"1\"/><Reference/><RefLength>0</RefLength></SeqType>', '<LevelSettings><LevelUsage DefType=\"DefAllLevels\"><SummaryFilter/></LevelUsage><LevelSummary Method=\"SummExperPickOne\"><Options/></LevelSummary></LevelSettings>', None), (-1, 0, '_DefaultUser_', 1, 'fumC', 'fumC', 'Sequence', '<SeqType><Locked>0</Locked><ComparisonSettings/><Settings><Nucl>1</Nucl><StoreInDb>1</StoreInDb></Settings><Alignment PenalOpenGap=\"100\" PenalUnitGap=\"0\" FastAlign=\"1\" FastCount=\"2\" FastDiagCount=\"99\"/><CharConv ExcludeTrivials=\"1\" ExcludeGaps=\"1\" ActiveZonesOnly=\"1\"/><Reference/><RefLength>0</RefLength></SeqType>', '<LevelSettings><LevelUsage DefType=\"DefAllLevels\"><SummaryFilter/></LevelUsage><LevelSummary Method=\"SummExperPickOne\"><Options/></LevelSummary></LevelSettings>', None), (-1, 0, '_DefaultUser_', 1, 'gdh', 'gdh', 'Sequence', '<SeqType><Locked>0</Locked><ComparisonSettings/><Settings><Nucl>1</Nucl><StoreInDb>1</StoreInDb></Settings><Alignment PenalOpenGap=\"100\" PenalUnitGap=\"0\" FastAlign=\"1\" FastCount=\"2\" FastDiagCount=\"99\"/><CharConv ExcludeTrivials=\"1\" ExcludeGaps=\"1\" ActiveZonesOnly=\"1\"/><Reference/><RefLength>0</RefLength></SeqType>', '<LevelSettings><LevelUsage DefType=\"DefAllLevels\"><SummaryFilter/></LevelUsage><LevelSummary Method=\"SummExperPickOne\"><Options/></LevelSummary></LevelSettings>', None), (-1, 0, '_DefaultUser_', 1, 'pdhC', 'pdhC', 'Sequence', '<SeqType><Locked>0</Locked><ComparisonSettings/><Settings><Nucl>1</Nucl><StoreInDb>1</StoreInDb></Settings><Alignment PenalOpenGap=\"100\" PenalUnitGap=\"0\" FastAlign=\"1\" FastCount=\"2\" FastDiagCount=\"99\"/><CharConv ExcludeTrivials=\"1\" ExcludeGaps=\"1\" ActiveZonesOnly=\"1\"/><Reference/><RefLength>0</RefLength></SeqType>', '<LevelSettings><LevelUsage DefType=\"DefAllLevels\"><SummaryFilter/></LevelUsage><LevelSummary Method=\"SummExperPickOne\"><Options/></LevelSummary></LevelSettings>', None), (-1, 0, '_DefaultUser_', 1, 'pgm', 'pgm', 'Sequence', '<SeqType><Locked>0</Locked><ComparisonSettings/><Settings><Nucl>1</Nucl><StoreInDb>1</StoreInDb></Settings><Alignment PenalOpenGap=\"100\" PenalUnitGap=\"0\" FastAlign=\"1\" FastCount=\"2\" FastDiagCount=\"99\"/><CharConv ExcludeTrivials=\"1\" ExcludeGaps=\"1\" ActiveZonesOnly=\"1\"/><Reference/><RefLength>0</RefLength></SeqType>', '<LevelSettings><LevelUsage DefType=\"DefAllLevels\"><SummaryFilter/></LevelUsage><LevelSummary Method=\"SummExperPickOne\"><Options/></LevelSummary></LevelSettings>', None), (-1, 0, '_DefaultUser_', 1, 'MLST_CMP', 'MLST_CMP', 'Composite', '<Composite CorrectWeight=\"0\"><ComparisonSettings/><Component Weight=\"1\">abcZ</Component><Component Weight=\"1\">adk</Component><Component Weight=\"1\">aroE</Component><Component Weight=\"1\">fumC</Component><Component Weight=\"1\">gdh</Component><Component Weight=\"1\">pdhC</Component><Component Weight=\"1\">pgm</Component></Composite>', '<LevelSettings><LevelUsage DefType=\"DefAllLevels\"><SummaryFilter/></LevelUsage><LevelSummary Method=\"SummExperPickOne\"><Options/></LevelSummary></LevelSettings>', None)]\n"
          ]
        }
      ]
    },
    {
      "cell_type": "markdown",
      "source": [
        "## File Handling"
      ],
      "metadata": {
        "id": "wxUeDrshyMqq"
      }
    },
    {
      "cell_type": "code",
      "source": [
        "import pandas as pd\n",
        "df = pd.read_csv(\"/content/sales.tsv\", sep='  ')\n",
        "df"
      ],
      "metadata": {
        "colab": {
          "base_uri": "https://localhost:8080/",
          "height": 261
        },
        "id": "ZOi_pVA0l9yg",
        "outputId": "0ae55896-1ad4-4210-d3ab-e6a6e154d936"
      },
      "execution_count": 31,
      "outputs": [
        {
          "output_type": "stream",
          "name": "stderr",
          "text": [
            "<ipython-input-31-6d7d286a0046>:2: ParserWarning: Falling back to the 'python' engine because the 'c' engine does not support regex separators (separators > 1 char and different from '\\s+' are interpreted as regex); you can avoid this warning by specifying engine='python'.\n",
            "  df = pd.read_csv(\"/content/sales.tsv\", sep='  ')\n"
          ]
        },
        {
          "output_type": "execute_result",
          "data": {
            "text/plain": [
              "  itemID     name  quantity  amount\n",
              "0     A!  Biscuit         2     200\n",
              "1     A2    Sugar         5     100\n",
              "2     B3     Milk         2     150\n",
              "3     B4  Sardine         1     750\n",
              "4     C3    beans         5    2000"
            ],
            "text/html": [
              "\n",
              "  <div id=\"df-1d69f46f-6dd8-4f62-97d4-4119bd6c1a55\" class=\"colab-df-container\">\n",
              "    <div>\n",
              "<style scoped>\n",
              "    .dataframe tbody tr th:only-of-type {\n",
              "        vertical-align: middle;\n",
              "    }\n",
              "\n",
              "    .dataframe tbody tr th {\n",
              "        vertical-align: top;\n",
              "    }\n",
              "\n",
              "    .dataframe thead th {\n",
              "        text-align: right;\n",
              "    }\n",
              "</style>\n",
              "<table border=\"1\" class=\"dataframe\">\n",
              "  <thead>\n",
              "    <tr style=\"text-align: right;\">\n",
              "      <th></th>\n",
              "      <th>itemID</th>\n",
              "      <th>name</th>\n",
              "      <th>quantity</th>\n",
              "      <th>amount</th>\n",
              "    </tr>\n",
              "  </thead>\n",
              "  <tbody>\n",
              "    <tr>\n",
              "      <th>0</th>\n",
              "      <td>A!</td>\n",
              "      <td>Biscuit</td>\n",
              "      <td>2</td>\n",
              "      <td>200</td>\n",
              "    </tr>\n",
              "    <tr>\n",
              "      <th>1</th>\n",
              "      <td>A2</td>\n",
              "      <td>Sugar</td>\n",
              "      <td>5</td>\n",
              "      <td>100</td>\n",
              "    </tr>\n",
              "    <tr>\n",
              "      <th>2</th>\n",
              "      <td>B3</td>\n",
              "      <td>Milk</td>\n",
              "      <td>2</td>\n",
              "      <td>150</td>\n",
              "    </tr>\n",
              "    <tr>\n",
              "      <th>3</th>\n",
              "      <td>B4</td>\n",
              "      <td>Sardine</td>\n",
              "      <td>1</td>\n",
              "      <td>750</td>\n",
              "    </tr>\n",
              "    <tr>\n",
              "      <th>4</th>\n",
              "      <td>C3</td>\n",
              "      <td>beans</td>\n",
              "      <td>5</td>\n",
              "      <td>2000</td>\n",
              "    </tr>\n",
              "  </tbody>\n",
              "</table>\n",
              "</div>\n",
              "    <div class=\"colab-df-buttons\">\n",
              "\n",
              "  <div class=\"colab-df-container\">\n",
              "    <button class=\"colab-df-convert\" onclick=\"convertToInteractive('df-1d69f46f-6dd8-4f62-97d4-4119bd6c1a55')\"\n",
              "            title=\"Convert this dataframe to an interactive table.\"\n",
              "            style=\"display:none;\">\n",
              "\n",
              "  <svg xmlns=\"http://www.w3.org/2000/svg\" height=\"24px\" viewBox=\"0 -960 960 960\">\n",
              "    <path d=\"M120-120v-720h720v720H120Zm60-500h600v-160H180v160Zm220 220h160v-160H400v160Zm0 220h160v-160H400v160ZM180-400h160v-160H180v160Zm440 0h160v-160H620v160ZM180-180h160v-160H180v160Zm440 0h160v-160H620v160Z\"/>\n",
              "  </svg>\n",
              "    </button>\n",
              "\n",
              "  <style>\n",
              "    .colab-df-container {\n",
              "      display:flex;\n",
              "      gap: 12px;\n",
              "    }\n",
              "\n",
              "    .colab-df-convert {\n",
              "      background-color: #E8F0FE;\n",
              "      border: none;\n",
              "      border-radius: 50%;\n",
              "      cursor: pointer;\n",
              "      display: none;\n",
              "      fill: #1967D2;\n",
              "      height: 32px;\n",
              "      padding: 0 0 0 0;\n",
              "      width: 32px;\n",
              "    }\n",
              "\n",
              "    .colab-df-convert:hover {\n",
              "      background-color: #E2EBFA;\n",
              "      box-shadow: 0px 1px 2px rgba(60, 64, 67, 0.3), 0px 1px 3px 1px rgba(60, 64, 67, 0.15);\n",
              "      fill: #174EA6;\n",
              "    }\n",
              "\n",
              "    .colab-df-buttons div {\n",
              "      margin-bottom: 4px;\n",
              "    }\n",
              "\n",
              "    [theme=dark] .colab-df-convert {\n",
              "      background-color: #3B4455;\n",
              "      fill: #D2E3FC;\n",
              "    }\n",
              "\n",
              "    [theme=dark] .colab-df-convert:hover {\n",
              "      background-color: #434B5C;\n",
              "      box-shadow: 0px 1px 3px 1px rgba(0, 0, 0, 0.15);\n",
              "      filter: drop-shadow(0px 1px 2px rgba(0, 0, 0, 0.3));\n",
              "      fill: #FFFFFF;\n",
              "    }\n",
              "  </style>\n",
              "\n",
              "    <script>\n",
              "      const buttonEl =\n",
              "        document.querySelector('#df-1d69f46f-6dd8-4f62-97d4-4119bd6c1a55 button.colab-df-convert');\n",
              "      buttonEl.style.display =\n",
              "        google.colab.kernel.accessAllowed ? 'block' : 'none';\n",
              "\n",
              "      async function convertToInteractive(key) {\n",
              "        const element = document.querySelector('#df-1d69f46f-6dd8-4f62-97d4-4119bd6c1a55');\n",
              "        const dataTable =\n",
              "          await google.colab.kernel.invokeFunction('convertToInteractive',\n",
              "                                                    [key], {});\n",
              "        if (!dataTable) return;\n",
              "\n",
              "        const docLinkHtml = 'Like what you see? Visit the ' +\n",
              "          '<a target=\"_blank\" href=https://colab.research.google.com/notebooks/data_table.ipynb>data table notebook</a>'\n",
              "          + ' to learn more about interactive tables.';\n",
              "        element.innerHTML = '';\n",
              "        dataTable['output_type'] = 'display_data';\n",
              "        await google.colab.output.renderOutput(dataTable, element);\n",
              "        const docLink = document.createElement('div');\n",
              "        docLink.innerHTML = docLinkHtml;\n",
              "        element.appendChild(docLink);\n",
              "      }\n",
              "    </script>\n",
              "  </div>\n",
              "\n",
              "\n",
              "<div id=\"df-c151aa9f-e413-4e67-8659-9d9d53639b90\">\n",
              "  <button class=\"colab-df-quickchart\" onclick=\"quickchart('df-c151aa9f-e413-4e67-8659-9d9d53639b90')\"\n",
              "            title=\"Suggest charts\"\n",
              "            style=\"display:none;\">\n",
              "\n",
              "<svg xmlns=\"http://www.w3.org/2000/svg\" height=\"24px\"viewBox=\"0 0 24 24\"\n",
              "     width=\"24px\">\n",
              "    <g>\n",
              "        <path d=\"M19 3H5c-1.1 0-2 .9-2 2v14c0 1.1.9 2 2 2h14c1.1 0 2-.9 2-2V5c0-1.1-.9-2-2-2zM9 17H7v-7h2v7zm4 0h-2V7h2v10zm4 0h-2v-4h2v4z\"/>\n",
              "    </g>\n",
              "</svg>\n",
              "  </button>\n",
              "\n",
              "<style>\n",
              "  .colab-df-quickchart {\n",
              "      --bg-color: #E8F0FE;\n",
              "      --fill-color: #1967D2;\n",
              "      --hover-bg-color: #E2EBFA;\n",
              "      --hover-fill-color: #174EA6;\n",
              "      --disabled-fill-color: #AAA;\n",
              "      --disabled-bg-color: #DDD;\n",
              "  }\n",
              "\n",
              "  [theme=dark] .colab-df-quickchart {\n",
              "      --bg-color: #3B4455;\n",
              "      --fill-color: #D2E3FC;\n",
              "      --hover-bg-color: #434B5C;\n",
              "      --hover-fill-color: #FFFFFF;\n",
              "      --disabled-bg-color: #3B4455;\n",
              "      --disabled-fill-color: #666;\n",
              "  }\n",
              "\n",
              "  .colab-df-quickchart {\n",
              "    background-color: var(--bg-color);\n",
              "    border: none;\n",
              "    border-radius: 50%;\n",
              "    cursor: pointer;\n",
              "    display: none;\n",
              "    fill: var(--fill-color);\n",
              "    height: 32px;\n",
              "    padding: 0;\n",
              "    width: 32px;\n",
              "  }\n",
              "\n",
              "  .colab-df-quickchart:hover {\n",
              "    background-color: var(--hover-bg-color);\n",
              "    box-shadow: 0 1px 2px rgba(60, 64, 67, 0.3), 0 1px 3px 1px rgba(60, 64, 67, 0.15);\n",
              "    fill: var(--button-hover-fill-color);\n",
              "  }\n",
              "\n",
              "  .colab-df-quickchart-complete:disabled,\n",
              "  .colab-df-quickchart-complete:disabled:hover {\n",
              "    background-color: var(--disabled-bg-color);\n",
              "    fill: var(--disabled-fill-color);\n",
              "    box-shadow: none;\n",
              "  }\n",
              "\n",
              "  .colab-df-spinner {\n",
              "    border: 2px solid var(--fill-color);\n",
              "    border-color: transparent;\n",
              "    border-bottom-color: var(--fill-color);\n",
              "    animation:\n",
              "      spin 1s steps(1) infinite;\n",
              "  }\n",
              "\n",
              "  @keyframes spin {\n",
              "    0% {\n",
              "      border-color: transparent;\n",
              "      border-bottom-color: var(--fill-color);\n",
              "      border-left-color: var(--fill-color);\n",
              "    }\n",
              "    20% {\n",
              "      border-color: transparent;\n",
              "      border-left-color: var(--fill-color);\n",
              "      border-top-color: var(--fill-color);\n",
              "    }\n",
              "    30% {\n",
              "      border-color: transparent;\n",
              "      border-left-color: var(--fill-color);\n",
              "      border-top-color: var(--fill-color);\n",
              "      border-right-color: var(--fill-color);\n",
              "    }\n",
              "    40% {\n",
              "      border-color: transparent;\n",
              "      border-right-color: var(--fill-color);\n",
              "      border-top-color: var(--fill-color);\n",
              "    }\n",
              "    60% {\n",
              "      border-color: transparent;\n",
              "      border-right-color: var(--fill-color);\n",
              "    }\n",
              "    80% {\n",
              "      border-color: transparent;\n",
              "      border-right-color: var(--fill-color);\n",
              "      border-bottom-color: var(--fill-color);\n",
              "    }\n",
              "    90% {\n",
              "      border-color: transparent;\n",
              "      border-bottom-color: var(--fill-color);\n",
              "    }\n",
              "  }\n",
              "</style>\n",
              "\n",
              "  <script>\n",
              "    async function quickchart(key) {\n",
              "      const quickchartButtonEl =\n",
              "        document.querySelector('#' + key + ' button');\n",
              "      quickchartButtonEl.disabled = true;  // To prevent multiple clicks.\n",
              "      quickchartButtonEl.classList.add('colab-df-spinner');\n",
              "      try {\n",
              "        const charts = await google.colab.kernel.invokeFunction(\n",
              "            'suggestCharts', [key], {});\n",
              "      } catch (error) {\n",
              "        console.error('Error during call to suggestCharts:', error);\n",
              "      }\n",
              "      quickchartButtonEl.classList.remove('colab-df-spinner');\n",
              "      quickchartButtonEl.classList.add('colab-df-quickchart-complete');\n",
              "    }\n",
              "    (() => {\n",
              "      let quickchartButtonEl =\n",
              "        document.querySelector('#df-c151aa9f-e413-4e67-8659-9d9d53639b90 button');\n",
              "      quickchartButtonEl.style.display =\n",
              "        google.colab.kernel.accessAllowed ? 'block' : 'none';\n",
              "    })();\n",
              "  </script>\n",
              "</div>\n",
              "    </div>\n",
              "  </div>\n"
            ]
          },
          "metadata": {},
          "execution_count": 31
        }
      ]
    },
    {
      "cell_type": "code",
      "source": [
        ""
      ],
      "metadata": {
        "id": "5elerdkopvGO"
      },
      "execution_count": null,
      "outputs": []
    }
  ]
}