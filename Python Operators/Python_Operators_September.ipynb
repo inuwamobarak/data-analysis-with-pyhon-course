{
  "nbformat": 4,
  "nbformat_minor": 0,
  "metadata": {
    "colab": {
      "provenance": []
    },
    "kernelspec": {
      "name": "python3",
      "display_name": "Python 3"
    },
    "language_info": {
      "name": "python"
    }
  },
  "cells": [
    {
      "cell_type": "markdown",
      "source": [
        "## Arithmetic Operators"
      ],
      "metadata": {
        "id": "Oqr0dDjRpsVg"
      }
    },
    {
      "cell_type": "code",
      "execution_count": null,
      "metadata": {
        "colab": {
          "base_uri": "https://localhost:8080/"
        },
        "id": "svl5LGFipecO",
        "outputId": "5ed20c20-68a5-43ab-c636-337250853aca"
      },
      "outputs": [
        {
          "output_type": "stream",
          "name": "stdout",
          "text": [
            "13\n"
          ]
        }
      ],
      "source": [
        "# Addition (+)\n",
        "\n",
        "a = 10\n",
        "b = 3\n",
        "\n",
        "print(a + b)"
      ]
    },
    {
      "cell_type": "code",
      "source": [
        "c = a + b\n",
        "print(c)"
      ],
      "metadata": {
        "colab": {
          "base_uri": "https://localhost:8080/"
        },
        "id": "eUFV-uyMrUDp",
        "outputId": "b1adcf00-bda8-4433-9d9d-216121827cb2"
      },
      "execution_count": null,
      "outputs": [
        {
          "output_type": "stream",
          "name": "stdout",
          "text": [
            "13\n"
          ]
        }
      ]
    },
    {
      "cell_type": "code",
      "source": [
        "# Subtraction (-)\n",
        "\n",
        "a = 10\n",
        "b = 13\n",
        "\n",
        "print(a - b)"
      ],
      "metadata": {
        "colab": {
          "base_uri": "https://localhost:8080/"
        },
        "id": "jXYU3vMfsHZj",
        "outputId": "44295a14-16b0-4f10-bb59-4434e063b7e9"
      },
      "execution_count": null,
      "outputs": [
        {
          "output_type": "stream",
          "name": "stdout",
          "text": [
            "-3\n"
          ]
        }
      ]
    },
    {
      "cell_type": "code",
      "source": [
        "c = a - b\n",
        "print(c)"
      ],
      "metadata": {
        "colab": {
          "base_uri": "https://localhost:8080/"
        },
        "id": "UVrM6Usite0Y",
        "outputId": "d081b1ad-3cd3-48a7-df6c-d99a1730256b"
      },
      "execution_count": null,
      "outputs": [
        {
          "output_type": "stream",
          "name": "stdout",
          "text": [
            "-3\n"
          ]
        }
      ]
    },
    {
      "cell_type": "code",
      "source": [
        "# Multiplication (*)\n",
        "\n",
        "a = 10\n",
        "b = 3\n",
        "\n",
        "print(a * b)"
      ],
      "metadata": {
        "colab": {
          "base_uri": "https://localhost:8080/"
        },
        "id": "M_ujQBB1tIhV",
        "outputId": "55c27d64-0547-482f-ff7d-c41c7b44cf93"
      },
      "execution_count": null,
      "outputs": [
        {
          "output_type": "stream",
          "name": "stdout",
          "text": [
            "30\n"
          ]
        }
      ]
    },
    {
      "cell_type": "code",
      "source": [
        "c = a * b\n",
        "print(c)"
      ],
      "metadata": {
        "colab": {
          "base_uri": "https://localhost:8080/"
        },
        "id": "GHx6cgKytlKy",
        "outputId": "5ac50b4c-539f-443c-a5bf-e6c0d4ce3de0"
      },
      "execution_count": null,
      "outputs": [
        {
          "output_type": "stream",
          "name": "stdout",
          "text": [
            "30\n"
          ]
        }
      ]
    },
    {
      "cell_type": "code",
      "source": [
        "# Division (/)\n",
        "\n",
        "a = 10\n",
        "b = 3\n",
        "\n",
        "print(a / b)"
      ],
      "metadata": {
        "colab": {
          "base_uri": "https://localhost:8080/"
        },
        "id": "WISuWqm7urtP",
        "outputId": "70a11bc4-3532-4430-c086-d3e478abdd22"
      },
      "execution_count": null,
      "outputs": [
        {
          "output_type": "stream",
          "name": "stdout",
          "text": [
            "3.3333333333333335\n"
          ]
        }
      ]
    },
    {
      "cell_type": "code",
      "source": [
        "c = a / b\n",
        "print(c)"
      ],
      "metadata": {
        "colab": {
          "base_uri": "https://localhost:8080/"
        },
        "id": "g2m7v8R6u0jP",
        "outputId": "f43b551e-f50f-4eaf-ced7-9e934a995d1a"
      },
      "execution_count": null,
      "outputs": [
        {
          "output_type": "stream",
          "name": "stdout",
          "text": [
            "3.3333333333333335\n"
          ]
        }
      ]
    },
    {
      "cell_type": "code",
      "source": [
        "# Modulus (%)\n",
        "\n",
        "a = 10\n",
        "b = 3\n",
        "\n",
        "print(10 % 3)"
      ],
      "metadata": {
        "colab": {
          "base_uri": "https://localhost:8080/"
        },
        "id": "SnDObuKvu5PO",
        "outputId": "a5efa646-3f0b-4a6d-a9e0-fd24d5fde38e"
      },
      "execution_count": null,
      "outputs": [
        {
          "output_type": "stream",
          "name": "stdout",
          "text": [
            "1\n"
          ]
        }
      ]
    },
    {
      "cell_type": "code",
      "source": [
        "c = a % b\n",
        "print(c)"
      ],
      "metadata": {
        "colab": {
          "base_uri": "https://localhost:8080/"
        },
        "id": "PEQeTMSZvOBb",
        "outputId": "08a95abb-7abf-4448-c7cd-98daf60d54e3"
      },
      "execution_count": null,
      "outputs": [
        {
          "output_type": "stream",
          "name": "stdout",
          "text": [
            "1\n"
          ]
        }
      ]
    },
    {
      "cell_type": "code",
      "source": [
        "# Floor Division (//)\n",
        "\n",
        "a = 11\n",
        "b = 3\n",
        "\n",
        "print(a // b)"
      ],
      "metadata": {
        "colab": {
          "base_uri": "https://localhost:8080/"
        },
        "id": "z7RBgQt4v9TH",
        "outputId": "c8858cf6-61a3-4c26-d5d1-d07237238f7e"
      },
      "execution_count": null,
      "outputs": [
        {
          "output_type": "stream",
          "name": "stdout",
          "text": [
            "3\n"
          ]
        }
      ]
    },
    {
      "cell_type": "code",
      "source": [
        "c = a // b\n",
        "print(c)"
      ],
      "metadata": {
        "colab": {
          "base_uri": "https://localhost:8080/"
        },
        "id": "K_WdjzSOwZbh",
        "outputId": "ce41a29f-7a24-4ef7-adc6-39d1bf3fc59e"
      },
      "execution_count": null,
      "outputs": [
        {
          "output_type": "stream",
          "name": "stdout",
          "text": [
            "3\n"
          ]
        }
      ]
    },
    {
      "cell_type": "code",
      "source": [
        "# Exponentiation (**)\n",
        "\n",
        "a = 10\n",
        "b = 3\n",
        "print(a ** b)"
      ],
      "metadata": {
        "colab": {
          "base_uri": "https://localhost:8080/"
        },
        "id": "3knDwTN0wcv2",
        "outputId": "b9ef2804-17cc-46ae-f40c-9f01ced3c206"
      },
      "execution_count": null,
      "outputs": [
        {
          "output_type": "stream",
          "name": "stdout",
          "text": [
            "1000\n"
          ]
        }
      ]
    },
    {
      "cell_type": "code",
      "source": [
        "c = a ** b\n",
        "print(c)"
      ],
      "metadata": {
        "colab": {
          "base_uri": "https://localhost:8080/"
        },
        "id": "ijJMeRH3w83K",
        "outputId": "6f6a966d-5615-44ac-b56a-1545816d79fc"
      },
      "execution_count": null,
      "outputs": [
        {
          "output_type": "stream",
          "name": "stdout",
          "text": [
            "1000\n"
          ]
        }
      ]
    },
    {
      "cell_type": "markdown",
      "source": [
        "## Comparison Operators"
      ],
      "metadata": {
        "id": "_Lo4XoCXxz5Q"
      }
    },
    {
      "cell_type": "code",
      "source": [
        "# Equal to (==)\n",
        "\n",
        "a = 12\n",
        "b = 10\n",
        "c = 10\n",
        "\n",
        "print(a == b)\n",
        "print(a == c)\n",
        "print(b == c)"
      ],
      "metadata": {
        "colab": {
          "base_uri": "https://localhost:8080/"
        },
        "id": "lG6EpzfxxC5l",
        "outputId": "486ec228-8ee0-4af9-e6ca-81c85e0679d4"
      },
      "execution_count": null,
      "outputs": [
        {
          "output_type": "stream",
          "name": "stdout",
          "text": [
            "False\n",
            "False\n",
            "True\n"
          ]
        }
      ]
    },
    {
      "cell_type": "code",
      "source": [
        "# Not Equal to (!=)\n",
        "\n",
        "a = 12\n",
        "b = 10\n",
        "c = 10\n",
        "\n",
        "print(a != b)\n",
        "print(a != c)\n",
        "print(b != c)"
      ],
      "metadata": {
        "colab": {
          "base_uri": "https://localhost:8080/"
        },
        "id": "5s-8USaY07ER",
        "outputId": "a0784f03-9610-444c-f8bc-015e04de47ce"
      },
      "execution_count": null,
      "outputs": [
        {
          "output_type": "stream",
          "name": "stdout",
          "text": [
            "True\n",
            "True\n",
            "False\n"
          ]
        }
      ]
    },
    {
      "cell_type": "code",
      "source": [
        "# Greater than (>)\n",
        "\n",
        "a = 12\n",
        "b = 10\n",
        "c = 10\n",
        "\n",
        "print(a > b)\n",
        "print(a > c)\n",
        "print(b > c)"
      ],
      "metadata": {
        "colab": {
          "base_uri": "https://localhost:8080/"
        },
        "id": "Z9S3e-6M1T46",
        "outputId": "167c0cf9-fed7-4e4f-8ac2-e4533ea7ab48"
      },
      "execution_count": null,
      "outputs": [
        {
          "output_type": "stream",
          "name": "stdout",
          "text": [
            "True\n",
            "True\n",
            "False\n"
          ]
        }
      ]
    },
    {
      "cell_type": "code",
      "source": [
        "# Less than (<)\n",
        "\n",
        "a = 12\n",
        "b = 10\n",
        "c = 10\n",
        "\n",
        "print(a < b)\n",
        "print(a < c)\n",
        "print(b < c)"
      ],
      "metadata": {
        "colab": {
          "base_uri": "https://localhost:8080/"
        },
        "id": "Qh6gi3Bw2wNV",
        "outputId": "99809229-a54a-44da-b05b-a6184c64bff1"
      },
      "execution_count": null,
      "outputs": [
        {
          "output_type": "stream",
          "name": "stdout",
          "text": [
            "False\n",
            "False\n",
            "False\n"
          ]
        }
      ]
    },
    {
      "cell_type": "code",
      "source": [
        "# Less than or Equal (<=)\n",
        "\n",
        "a = 12\n",
        "b = 10\n",
        "c = 10\n",
        "\n",
        "print(a <= b)\n",
        "print(a <= c)\n",
        "print(b <= c)"
      ],
      "metadata": {
        "colab": {
          "base_uri": "https://localhost:8080/"
        },
        "id": "GR64GYqU3Fza",
        "outputId": "8d434190-769e-4a53-da5a-a671433834ae"
      },
      "execution_count": null,
      "outputs": [
        {
          "output_type": "stream",
          "name": "stdout",
          "text": [
            "False\n",
            "False\n",
            "True\n"
          ]
        }
      ]
    },
    {
      "cell_type": "code",
      "source": [
        "# Greater than or Equal (<=)\n",
        "\n",
        "a = 12\n",
        "b = 10\n",
        "c = 10\n",
        "\n",
        "print(a >= b)\n",
        "print(a >= c)\n",
        "print(b >= c)"
      ],
      "metadata": {
        "colab": {
          "base_uri": "https://localhost:8080/"
        },
        "id": "OnZ7QCdt3iW-",
        "outputId": "00762f48-3c0d-4d15-8b4f-d4a55f06aa98"
      },
      "execution_count": null,
      "outputs": [
        {
          "output_type": "stream",
          "name": "stdout",
          "text": [
            "True\n",
            "True\n",
            "True\n"
          ]
        }
      ]
    },
    {
      "cell_type": "code",
      "source": [
        "# Exercise 1\n",
        "\n",
        "password = 12345\n",
        "\n",
        "login = input(\"Enter your password:\")\n",
        "\n",
        "login = int(login)\n",
        "\n",
        "print(password == login)"
      ],
      "metadata": {
        "colab": {
          "base_uri": "https://localhost:8080/"
        },
        "id": "BSzqH6Q53547",
        "outputId": "e15f8f51-f943-4d4d-e035-479672b45937"
      },
      "execution_count": null,
      "outputs": [
        {
          "output_type": "stream",
          "name": "stdout",
          "text": [
            "Enter your password:12345\n",
            "True\n"
          ]
        }
      ]
    },
    {
      "cell_type": "code",
      "source": [
        "type(login)"
      ],
      "metadata": {
        "colab": {
          "base_uri": "https://localhost:8080/"
        },
        "id": "KSApzgF04LSE",
        "outputId": "510335ad-b1c8-4df9-f075-d5bf4236d425"
      },
      "execution_count": null,
      "outputs": [
        {
          "output_type": "execute_result",
          "data": {
            "text/plain": [
              "int"
            ]
          },
          "metadata": {},
          "execution_count": 35
        }
      ]
    },
    {
      "cell_type": "code",
      "source": [
        "# Exercise 2\n",
        "\n",
        "x = input(\"Enter first Digit: \")\n",
        "y = input(\"Enter second Digit: \")\n",
        "\n",
        "x = int(x)\n",
        "y = int(y)\n",
        "\n",
        "msg = \"The Sum is:\"\n",
        "\n",
        "print(msg, x + y)"
      ],
      "metadata": {
        "colab": {
          "base_uri": "https://localhost:8080/"
        },
        "id": "0aCgRPwH55t1",
        "outputId": "51f01070-768c-47fa-dcfb-d99e8d685ff3"
      },
      "execution_count": null,
      "outputs": [
        {
          "output_type": "stream",
          "name": "stdout",
          "text": [
            "Enter first Digit: 5\n",
            "Enter second Digit: 5\n",
            "The Sum is: 10\n"
          ]
        }
      ]
    },
    {
      "cell_type": "code",
      "source": [
        "# Exercise: Carryout the above exercise with other arithmetic operators"
      ],
      "metadata": {
        "id": "jYi4zVm49afR"
      },
      "execution_count": 1,
      "outputs": []
    },
    {
      "cell_type": "markdown",
      "source": [
        "## Assignment Operators\n",
        "\n",
        "Connects values to variables"
      ],
      "metadata": {
        "id": "XK8fUoUo9w0J"
      }
    },
    {
      "cell_type": "code",
      "source": [
        "# Assign (=)\n",
        "\n",
        "number = 10"
      ],
      "metadata": {
        "id": "9JOzWDdP9gIV"
      },
      "execution_count": 2,
      "outputs": []
    },
    {
      "cell_type": "code",
      "source": [
        "# Add and assign (+=)\n",
        "\n",
        "a = 2\n",
        "\n",
        "a = a + 4\n",
        "print(a)"
      ],
      "metadata": {
        "colab": {
          "base_uri": "https://localhost:8080/"
        },
        "id": "CuRWA5jP_CyT",
        "outputId": "1505d552-7290-47f9-9abc-8181c01b42c6"
      },
      "execution_count": 3,
      "outputs": [
        {
          "output_type": "stream",
          "name": "stdout",
          "text": [
            "6\n"
          ]
        }
      ]
    },
    {
      "cell_type": "code",
      "source": [
        "a = 2\n",
        "\n",
        "a += 4\n",
        "print(a)"
      ],
      "metadata": {
        "colab": {
          "base_uri": "https://localhost:8080/"
        },
        "id": "qgaERSWV_zDH",
        "outputId": "a4986146-7530-49db-ef0b-70e4cbcf56ca"
      },
      "execution_count": 7,
      "outputs": [
        {
          "output_type": "stream",
          "name": "stdout",
          "text": [
            "6\n"
          ]
        }
      ]
    },
    {
      "cell_type": "code",
      "source": [
        "# Subtraction and assign (-=)\n",
        "\n",
        "a = 2\n",
        "\n",
        "a -= 4\n",
        "print(a)"
      ],
      "metadata": {
        "colab": {
          "base_uri": "https://localhost:8080/"
        },
        "id": "fmme0rThAAmT",
        "outputId": "a01c0026-f1f3-4afb-ce7b-881a989f6c57"
      },
      "execution_count": 8,
      "outputs": [
        {
          "output_type": "stream",
          "name": "stdout",
          "text": [
            "-2\n"
          ]
        }
      ]
    },
    {
      "cell_type": "code",
      "source": [
        "# Multiply and assign (*=)\n",
        "\n",
        "a = 2\n",
        "\n",
        "a *= 4\n",
        "print(a)"
      ],
      "metadata": {
        "colab": {
          "base_uri": "https://localhost:8080/"
        },
        "id": "OV2YzOmFCXZT",
        "outputId": "84c9de2e-e18d-454d-edb6-91dfdb9fcd94"
      },
      "execution_count": 9,
      "outputs": [
        {
          "output_type": "stream",
          "name": "stdout",
          "text": [
            "8\n"
          ]
        }
      ]
    },
    {
      "cell_type": "code",
      "source": [
        "# Multiply and assign (*=)\n",
        "\n",
        "a = 2\n",
        "\n",
        "a *= 4\n",
        "print(a)"
      ],
      "metadata": {
        "id": "GJ1LDHgRCf9V"
      },
      "execution_count": null,
      "outputs": []
    },
    {
      "cell_type": "code",
      "source": [
        "# Divide and assign (/=)\n",
        "\n",
        "a = 2\n",
        "\n",
        "a /= 4\n",
        "print(a)"
      ],
      "metadata": {
        "colab": {
          "base_uri": "https://localhost:8080/"
        },
        "id": "XtFTqrahDPMe",
        "outputId": "9b51ca35-25e9-4b46-db8b-ce5bcfc89d18"
      },
      "execution_count": 10,
      "outputs": [
        {
          "output_type": "stream",
          "name": "stdout",
          "text": [
            "0.5\n"
          ]
        }
      ]
    },
    {
      "cell_type": "code",
      "source": [
        "# Modulus and assign (%=)\n",
        "\n",
        "a = 2\n",
        "\n",
        "a %= 4\n",
        "print(a)"
      ],
      "metadata": {
        "colab": {
          "base_uri": "https://localhost:8080/"
        },
        "id": "-sSbRRp8DWen",
        "outputId": "7d72afc8-2ac6-4ce3-9059-a7ce43ac759e"
      },
      "execution_count": 11,
      "outputs": [
        {
          "output_type": "stream",
          "name": "stdout",
          "text": [
            "2\n"
          ]
        }
      ]
    },
    {
      "cell_type": "code",
      "source": [
        "# Exponentiate and assign (**=)\n",
        "\n",
        "a = 2\n",
        "\n",
        "a **= 4\n",
        "print(a)"
      ],
      "metadata": {
        "colab": {
          "base_uri": "https://localhost:8080/"
        },
        "id": "sEaY-VYBDpJg",
        "outputId": "4433a64c-b237-4813-ae61-cea645f04c0b"
      },
      "execution_count": 13,
      "outputs": [
        {
          "output_type": "stream",
          "name": "stdout",
          "text": [
            "16\n"
          ]
        }
      ]
    },
    {
      "cell_type": "code",
      "source": [
        "# Floor divide and assign (//=)\n",
        "\n",
        "a = 2\n",
        "\n",
        "a //= 4\n",
        "print(a)"
      ],
      "metadata": {
        "colab": {
          "base_uri": "https://localhost:8080/"
        },
        "id": "RySfKGKmDyfI",
        "outputId": "e1678452-b89b-49f4-df4e-12349b305090"
      },
      "execution_count": 14,
      "outputs": [
        {
          "output_type": "stream",
          "name": "stdout",
          "text": [
            "0\n"
          ]
        }
      ]
    },
    {
      "cell_type": "markdown",
      "source": [
        "## Logical Operators\n",
        "\n",
        "Combines conditionsal statements"
      ],
      "metadata": {
        "id": "gWFf0gNOEywq"
      }
    },
    {
      "cell_type": "code",
      "source": [
        "# AND\n",
        "\n",
        "a = True\n",
        "b = False\n",
        "\n",
        "print(a and b)"
      ],
      "metadata": {
        "colab": {
          "base_uri": "https://localhost:8080/"
        },
        "id": "bYhT8aIzD8Ig",
        "outputId": "847f31b6-b0da-472e-b98b-5d1aac9b8eaa"
      },
      "execution_count": 15,
      "outputs": [
        {
          "output_type": "stream",
          "name": "stdout",
          "text": [
            "False\n"
          ]
        }
      ]
    },
    {
      "cell_type": "code",
      "source": [
        "# OR\n",
        "\n",
        "a = True\n",
        "b = False\n",
        "\n",
        "print(a or b)"
      ],
      "metadata": {
        "colab": {
          "base_uri": "https://localhost:8080/"
        },
        "id": "EpsdE3_lGZ4v",
        "outputId": "c79be181-8933-4b79-c749-b73d54afce2a"
      },
      "execution_count": 16,
      "outputs": [
        {
          "output_type": "stream",
          "name": "stdout",
          "text": [
            "True\n"
          ]
        }
      ]
    },
    {
      "cell_type": "code",
      "source": [
        "a = False\n",
        "b = False\n",
        "\n",
        "print(a or b)"
      ],
      "metadata": {
        "colab": {
          "base_uri": "https://localhost:8080/"
        },
        "id": "T8arBtI3HfQj",
        "outputId": "a1f7aa44-b6d1-4216-ca4a-1a6f7ada0d1e"
      },
      "execution_count": 17,
      "outputs": [
        {
          "output_type": "stream",
          "name": "stdout",
          "text": [
            "False\n"
          ]
        }
      ]
    },
    {
      "cell_type": "code",
      "source": [
        "# NOT\n",
        "\n",
        "a = True\n",
        "\n",
        "print(not a)"
      ],
      "metadata": {
        "colab": {
          "base_uri": "https://localhost:8080/"
        },
        "id": "1xIejFHEHlhJ",
        "outputId": "62ecddb5-cb12-481e-b031-f6364b87e94b"
      },
      "execution_count": 22,
      "outputs": [
        {
          "output_type": "stream",
          "name": "stdout",
          "text": [
            "False\n"
          ]
        }
      ]
    },
    {
      "cell_type": "markdown",
      "source": [
        "## Membership Operators\n",
        "\n",
        "Checks for presence in a collection"
      ],
      "metadata": {
        "id": "l0x4ceFPJN_S"
      }
    },
    {
      "cell_type": "code",
      "source": [
        "# in\n",
        "\n",
        "# Creating a Python list\n",
        "name = ['John', 'Paul', 'Sandra', 'Debra', 'Cynthia']\n",
        "\n",
        "# Checking data type\n",
        "type(name)\n",
        "\n",
        "# using in operator\n",
        "print('Cynthia' in name)"
      ],
      "metadata": {
        "colab": {
          "base_uri": "https://localhost:8080/"
        },
        "id": "3VPfrJf1INhb",
        "outputId": "2935c8c4-ad5e-4ef6-89cf-cb1508478d3c"
      },
      "execution_count": 25,
      "outputs": [
        {
          "output_type": "stream",
          "name": "stdout",
          "text": [
            "True\n"
          ]
        }
      ]
    },
    {
      "cell_type": "code",
      "source": [
        "# not in\n",
        "\n",
        "# Creating a Python list\n",
        "name = ['John', 'Paul', 'Sandra', 'Debra', 'Cynthia']\n",
        "\n",
        "# Checking data type\n",
        "type(name)\n",
        "\n",
        "# using in operator\n",
        "print('Cynthia' not in name)"
      ],
      "metadata": {
        "colab": {
          "base_uri": "https://localhost:8080/"
        },
        "id": "5k2z_dbHMmLW",
        "outputId": "c9373129-8ea6-43d6-f574-88974129fe2f"
      },
      "execution_count": 26,
      "outputs": [
        {
          "output_type": "stream",
          "name": "stdout",
          "text": [
            "False\n"
          ]
        }
      ]
    },
    {
      "cell_type": "code",
      "source": [
        "# Exercise\n",
        "\n",
        "# Creating a Python list\n",
        "name = ['John', 'Paul', 'Sandra', 'Debra', 'Cynthia']\n",
        "\n",
        "search = input(\"Enter Name: \")\n",
        "\n",
        "# using in operator\n",
        "print(search in name)"
      ],
      "metadata": {
        "colab": {
          "base_uri": "https://localhost:8080/"
        },
        "id": "kf1NEHqEM6s3",
        "outputId": "c63b04e9-9b9c-46f8-f72b-afc0fdef90df"
      },
      "execution_count": 28,
      "outputs": [
        {
          "output_type": "stream",
          "name": "stdout",
          "text": [
            "Enter Name: Cynthia\n",
            "True\n"
          ]
        }
      ]
    },
    {
      "cell_type": "code",
      "source": [],
      "metadata": {
        "id": "fS3xrEj6OP-3"
      },
      "execution_count": 28,
      "outputs": []
    }
  ]
}