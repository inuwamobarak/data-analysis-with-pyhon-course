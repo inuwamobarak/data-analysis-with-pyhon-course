{
  "nbformat": 4,
  "nbformat_minor": 0,
  "metadata": {
    "colab": {
      "provenance": []
    },
    "kernelspec": {
      "name": "python3",
      "display_name": "Python 3"
    },
    "language_info": {
      "name": "python"
    }
  },
  "cells": [
    {
      "cell_type": "code",
      "execution_count": 3,
      "metadata": {
        "id": "uNMO-3u8rmC7"
      },
      "outputs": [],
      "source": [
        "class Animal_kingdom:\n",
        "  def __init__(self, name, family, size):\n",
        "    self.name = name\n",
        "    self.family = family\n",
        "    self.size = size\n",
        "\n",
        "  def weight_calc(self, l, g):\n",
        "    ld = l * (g ** 2)\n",
        "    w = ld/300\n",
        "    print(f\"Based on the {self.name}'s Lenght and Girth, the weight is: {w}\")\n",
        "\n",
        "  def printer(self):\n",
        "    print(f\"The name is {self.name}, the family is {self.family} and the size is {self.size}.\")"
      ]
    },
    {
      "cell_type": "code",
      "source": [
        "# Creating Objects\n",
        "dog = Animal_kingdom('GSD', 'Canine', '23')\n",
        "\n",
        "print(dog.name)"
      ],
      "metadata": {
        "colab": {
          "base_uri": "https://localhost:8080/"
        },
        "id": "Q4jWuNNf0oMs",
        "outputId": "fc40ddaf-d984-4b2c-e533-a1139d1e8a11"
      },
      "execution_count": 4,
      "outputs": [
        {
          "output_type": "stream",
          "name": "stdout",
          "text": [
            "GSD\n"
          ]
        }
      ]
    },
    {
      "cell_type": "code",
      "source": [
        "# Calling Functions\n",
        "dog.printer()"
      ],
      "metadata": {
        "colab": {
          "base_uri": "https://localhost:8080/"
        },
        "id": "76JCGNRG2xIq",
        "outputId": "a9e3db2a-7026-40bc-ca2f-e85fef51ab82"
      },
      "execution_count": 5,
      "outputs": [
        {
          "output_type": "stream",
          "name": "stdout",
          "text": [
            "The name is GSD, the family is Canine and the size is 23.\n"
          ]
        }
      ]
    },
    {
      "cell_type": "code",
      "source": [
        "dog.weight_calc(56, 23)"
      ],
      "metadata": {
        "colab": {
          "base_uri": "https://localhost:8080/"
        },
        "id": "cpzzT4FF2-aQ",
        "outputId": "f9c1fc39-6b58-4f1d-f0f0-a0a88e6c3acc"
      },
      "execution_count": 6,
      "outputs": [
        {
          "output_type": "stream",
          "name": "stdout",
          "text": [
            "Based on the GSD's Lenght and Girth, the weight is: 98.74666666666667\n"
          ]
        }
      ]
    },
    {
      "cell_type": "code",
      "source": [
        "# Encapsulations\n",
        "## Denies access except via an Object\n",
        "dog.weight_calc(23, 453)"
      ],
      "metadata": {
        "colab": {
          "base_uri": "https://localhost:8080/"
        },
        "id": "jjIWvMmN3U5u",
        "outputId": "53f18cc7-fceb-4250-8312-757a918325c7"
      },
      "execution_count": 9,
      "outputs": [
        {
          "output_type": "stream",
          "name": "stdout",
          "text": [
            "Based on the GSD's Lenght and Girth, the weight is: 15732.69\n"
          ]
        }
      ]
    },
    {
      "cell_type": "code",
      "source": [
        "class Aquatic_kingdom(Animal_kingdom):\n",
        "  def water_type(self, water_body_type):\n",
        "   print(f\"{water_body_type}, is the available water body for {self.name}\")\n",
        ""
      ],
      "metadata": {
        "id": "v8BTlPzq9je5"
      },
      "execution_count": 12,
      "outputs": []
    },
    {
      "cell_type": "code",
      "source": [
        "tilapia = Aquatic_kingdom('Tilapia', 'Pisces', '6')\n",
        "tilapia.printer()"
      ],
      "metadata": {
        "colab": {
          "base_uri": "https://localhost:8080/"
        },
        "id": "GGRWgxkB_Ptw",
        "outputId": "8dc5e652-3791-4565-beeb-0644edcd7e2a"
      },
      "execution_count": 13,
      "outputs": [
        {
          "output_type": "stream",
          "name": "stdout",
          "text": [
            "The name is Tilapia, the family is Pisces and the size is 6.\n"
          ]
        }
      ]
    },
    {
      "cell_type": "code",
      "source": [
        "## HOME WORK"
      ],
      "metadata": {
        "id": "GMm_ueioALG2"
      },
      "execution_count": null,
      "outputs": []
    }
  ]
}