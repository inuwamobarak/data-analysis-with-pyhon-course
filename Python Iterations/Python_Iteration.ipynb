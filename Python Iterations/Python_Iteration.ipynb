{
  "nbformat": 4,
  "nbformat_minor": 0,
  "metadata": {
    "colab": {
      "provenance": []
    },
    "kernelspec": {
      "name": "python3",
      "display_name": "Python 3"
    },
    "language_info": {
      "name": "python"
    }
  },
  "cells": [
    {
      "cell_type": "code",
      "execution_count": 5,
      "metadata": {
        "colab": {
          "base_uri": "https://localhost:8080/"
        },
        "id": "pVEqvXRYhpYK",
        "outputId": "32ef2561-d04c-4950-8f5c-447b63469d69"
      },
      "outputs": [
        {
          "output_type": "stream",
          "name": "stdout",
          "text": [
            "1\n",
            "2\n",
            "3\n",
            "4\n",
            "5\n"
          ]
        }
      ],
      "source": [
        "# For Loop\n",
        "\n",
        "## Iterating over a List\n",
        "numbers = [1, 2, 3, 4, 5]\n",
        "\n",
        "for number in numbers:\n",
        "  print(number)"
      ]
    },
    {
      "cell_type": "code",
      "source": [
        "numbers = [1, 2, 3, 4, 5]\n",
        "\n",
        "for number in numbers:\n",
        "  number += 3\n",
        "  print(number)"
      ],
      "metadata": {
        "colab": {
          "base_uri": "https://localhost:8080/"
        },
        "id": "Q0wsfD4vihiF",
        "outputId": "bb082996-7db4-4690-f33a-8db3a2e6f5c1"
      },
      "execution_count": 6,
      "outputs": [
        {
          "output_type": "stream",
          "name": "stdout",
          "text": [
            "4\n",
            "5\n",
            "6\n",
            "7\n",
            "8\n"
          ]
        }
      ]
    },
    {
      "cell_type": "code",
      "source": [
        "### Checking type with loop\n",
        "items = ['John', 26, 'Rivers', False, 250.00]\n",
        "\n",
        "for item in items:\n",
        "  print(type(item))"
      ],
      "metadata": {
        "colab": {
          "base_uri": "https://localhost:8080/"
        },
        "id": "t2bqDVGKm3dc",
        "outputId": "f189ac01-892a-4d91-d6ea-4eed55da4bab"
      },
      "execution_count": 12,
      "outputs": [
        {
          "output_type": "stream",
          "name": "stdout",
          "text": [
            "<class 'str'>\n",
            "<class 'int'>\n",
            "<class 'str'>\n",
            "<class 'bool'>\n",
            "<class 'float'>\n"
          ]
        }
      ]
    },
    {
      "cell_type": "code",
      "source": [
        "## Iterating oover a Range\n",
        "\n",
        "for x in range(1, 9):\n",
        "  print(x)"
      ],
      "metadata": {
        "colab": {
          "base_uri": "https://localhost:8080/"
        },
        "id": "KDoYsJ_-kV1C",
        "outputId": "357b0373-4807-4f78-994b-c6cb7843983f"
      },
      "execution_count": 9,
      "outputs": [
        {
          "output_type": "stream",
          "name": "stdout",
          "text": [
            "1\n",
            "2\n",
            "3\n",
            "4\n",
            "5\n",
            "6\n",
            "7\n",
            "8\n"
          ]
        }
      ]
    },
    {
      "cell_type": "code",
      "source": [
        "## Iterating over a Dictionary\n",
        "\n",
        "attendance = {\n",
        "    'Nigeria':['Rivers', 'Abia', 'Imo', 'Enugu', 'Benue'],\n",
        "    'Togo':['Savanes', 'Kara', 'Centrale', 'Plateaux', 'Maritime'],\n",
        "    'Ghana':['Ashanti', 'Bono East', 'Central', 'Kumasi', 'Techiman'],\n",
        "    'Cameroon':['Dualla', 'Ebolowa', 'Bamenda', 'Yaounde', 'Littoral'],\n",
        "}\n",
        "\n",
        "### Iterating over keys\n",
        "for attendees in attendance:\n",
        "  print(attendees)"
      ],
      "metadata": {
        "colab": {
          "base_uri": "https://localhost:8080/"
        },
        "id": "MVKuvMqElvyu",
        "outputId": "f20c3bae-27a1-4861-8bc2-d500c5ef795e"
      },
      "execution_count": 13,
      "outputs": [
        {
          "output_type": "stream",
          "name": "stdout",
          "text": [
            "Nigeria\n",
            "Togo\n",
            "Ghana\n",
            "Cameroon\n"
          ]
        }
      ]
    },
    {
      "cell_type": "code",
      "source": [
        "countries = []\n",
        "\n",
        "for attendees in attendance:\n",
        "  countries.append(attendees)\n",
        "\n",
        "print(countries)"
      ],
      "metadata": {
        "colab": {
          "base_uri": "https://localhost:8080/"
        },
        "id": "-5vnuBcepTyI",
        "outputId": "d51af27e-1efb-4b21-8264-d30a88f6f636"
      },
      "execution_count": 23,
      "outputs": [
        {
          "output_type": "stream",
          "name": "stdout",
          "text": [
            "['Nigeria', 'Togo', 'Ghana', 'Cameroon']\n"
          ]
        }
      ]
    },
    {
      "cell_type": "code",
      "source": [
        "## Iterating over values\n",
        "\n",
        "states = []\n",
        "\n",
        "for attendees in attendance.values():\n",
        "  states.append(attendees)\n",
        "\n",
        "print(states)"
      ],
      "metadata": {
        "colab": {
          "base_uri": "https://localhost:8080/"
        },
        "id": "CuTuuDqgp7z1",
        "outputId": "9354ad94-7f1e-403a-8346-db8141a3f91b"
      },
      "execution_count": 32,
      "outputs": [
        {
          "output_type": "stream",
          "name": "stdout",
          "text": [
            "[['Rivers', 'Abia', 'Imo', 'Enugu', 'Benue'], ['Savanes', 'Kara', 'Centrale', 'Plateaux', 'Maritime'], ['Ashanti', 'Bono East', 'Central', 'Kumasi', 'Techiman'], ['Dualla', 'Ebolowa', 'Bamenda', 'Yaounde', 'Littoral']]\n"
          ]
        }
      ]
    },
    {
      "cell_type": "code",
      "source": [
        "# While Loop\n",
        "\n",
        "num = 0\n",
        "\n",
        "while num <= 10:\n",
        "  print(num)\n",
        "  num += 1"
      ],
      "metadata": {
        "colab": {
          "base_uri": "https://localhost:8080/"
        },
        "id": "B7OuAL3ntpxT",
        "outputId": "02415736-5413-4b47-add2-1221790e068b"
      },
      "execution_count": 34,
      "outputs": [
        {
          "output_type": "stream",
          "name": "stdout",
          "text": [
            "0\n",
            "1\n",
            "2\n",
            "3\n",
            "4\n",
            "5\n",
            "6\n",
            "7\n",
            "8\n",
            "9\n",
            "10\n"
          ]
        }
      ]
    },
    {
      "cell_type": "code",
      "source": [],
      "metadata": {
        "id": "a1d6hE9Fv8zN"
      },
      "execution_count": null,
      "outputs": []
    }
  ]
}